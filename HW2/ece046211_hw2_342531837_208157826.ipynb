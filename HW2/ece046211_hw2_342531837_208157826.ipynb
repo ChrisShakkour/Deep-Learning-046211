{
  "cells": [
    {
      "cell_type": "markdown",
      "metadata": {
        "id": "dzV9wsJ5pGhf"
      },
      "source": [
        "# <img src=\"https://img.icons8.com/bubbles/50/000000/mind-map.png\" style=\"height:50px;display:inline\"> ECE 046211 - Technion - Deep Learning\n",
        "---\n",
        "\n",
        "## HW2 - Multilayer NNs and Convolutional NNs\n",
        "---"
      ]
    },
    {
      "cell_type": "markdown",
      "metadata": {
        "id": "bq2c8X93pGhh"
      },
      "source": [
        "### <img src=\"https://img.icons8.com/clouds/96/000000/keyboard.png\" style=\"height:50px;display:inline\"> Keyboard Shortcuts\n",
        "---\n",
        "* Run current cell: **Ctrl + Enter**\n",
        "* Run current cell and move to the next: **Shift + Enter**\n",
        "* Show lines in a code cell: **Esc + L**\n",
        "* View function documentation: **Shift + Tab** inside the parenthesis or `help(name_of_module)`\n",
        "* New cell below: **Esc + B**\n",
        "* Delete cell: **Esc + D, D** (two D's)"
      ]
    },
    {
      "cell_type": "markdown",
      "metadata": {
        "id": "vZZybn3NpGhh"
      },
      "source": [
        "### <img src=\"https://img.icons8.com/bubbles/50/000000/information.png\" style=\"height:50px;display:inline\"> Students Information\n",
        "---\n",
        "* Fill in\n",
        "\n",
        "|Name     |Campus Email| ID  |\n",
        "|---------|--------------------------------|----------|\n",
        "|Student 1| rebecca.a@campus.technion.ac.il| 342531837|\n",
        "|Student 2| christian.s@campus.technion.ac.il| 208157826|\n"
      ]
    },
    {
      "cell_type": "markdown",
      "metadata": {
        "id": "dDK5zqhdpGhi"
      },
      "source": [
        "### <img src=\"https://img.icons8.com/bubbles/50/000000/upload-to-cloud.png\" style=\"height:50px;display:inline\"> Submission Guidelines\n",
        "---\n",
        "* Maximal garde: 100.\n",
        "* Submission only in **pairs**. \n",
        "    * Please make sure you have registered your group in Moodle (there is a group creation component on the Moodle where you need to create your group and assign members).\n",
        "* **No handwritten submissions.** You can choose whether to answer in a Markdown cell in this notebook or attach a PDF with your answers.\n",
        "* <a style='color:red'> SAVE THE NOTEBOOKS WITH THE OUTPUT, CODE CELLS THAT WERE NOT RUN WILL NOT GET ANY POINTS! </a>\n",
        "* What you have to submit:\n",
        "    * If you have answered the questions in the notebook, you should submit this file only, with the name: `ece046211_hw2_id1_id2.ipynb`.\n",
        "    * If you answered the questions in a different file you should submit a `.zip` file with the name `ece046211_hw2_id1_id2.zip` with content:\n",
        "        * `ece046211_hw2_id1_id2.ipynb` - the code tasks\n",
        "        * `ece046211_hw2_id1_id2.pdf` - answers to questions.\n",
        "    * No other file-types (`.py`, `.docx`...) will be accepted.\n",
        "* Submission on the course website (Moodle).\n",
        "* **Latex in Colab** - in some cases, Latex equations may no be rendered. To avoid this, make sure to not use *bullets* in your answers (\"* some text here with Latex equations\" -> \"some text here with Latex equations\")."
      ]
    },
    {
      "cell_type": "markdown",
      "metadata": {
        "id": "pmSj_UufpGhi"
      },
      "source": [
        "### <img src=\"https://img.icons8.com/dusk/64/000000/online.png\" style=\"height:50px;display:inline\"> Working Online and Locally\n",
        "---\n",
        "* You can choose your working environment:\n",
        "    1. `Jupyter Notebook`, **locally** with <a href=\"https://www.anaconda.com/distribution/\">Anaconda</a> or **online** on <a href=\"https://colab.research.google.com/\">Google Colab</a>\n",
        "        * Colab also supports running code on GPU, so if you don't have one, Colab is the way to go. To enable GPU on Colab, in the menu: `Runtime`$\\rightarrow$ `Change Runtime Type` $\\rightarrow$`GPU`.\n",
        "    2. Python IDE such as <a href=\"https://www.jetbrains.com/pycharm/\">PyCharm</a> or <a href=\"https://code.visualstudio.com/\">Visual Studio Code</a>.\n",
        "        * Both allow editing and running Jupyter Notebooks.\n",
        "\n",
        "* Please refer to `Setting Up the Working Environment.pdf` on the Moodle or our GitHub (https://github.com/taldatech/ee046211-deep-learning) to help you get everything installed.\n",
        "* If you need any technical assistance, please go to our Piazza forum (`hw2` folder) and describe your problem (preferably with images)."
      ]
    },
    {
      "cell_type": "markdown",
      "metadata": {
        "id": "nlp1Fp4ppGhj"
      },
      "source": [
        "### <img src=\"https://img.icons8.com/bubbles/50/000000/checklist.png\" style=\"height:50px;display:inline\"> Agenda\n",
        "---\n",
        "\n",
        "* [Part 1 - Theory](#-Part-1---Theory)\n",
        "    * [Q1 - Generalization in A Teacher-Student Setup](#-Question-1--Generalization-in-A-Teacher-Student-Setup)\n",
        "    * [Q2 - Backpropagation By Hand](#-Question-2---Backpropagation-By-Hand)\n",
        "    * [Q3 - Deep Double Descent](#-Question-3---Deep-Double-Descent)\n",
        "    * [Q4 - Initialization](#-Question-4---Initialization)\n",
        "    * [Q5 - MLP and Invaraince](#-Question-5---MLP-and-Invaraince)\n",
        "    * [Q6 - VGG Architecture](#-Question-6--VGG-Architecture)\n",
        "* [Part 2 - Code Assignments](#-Part-2---Code-Assignments)\n",
        "    * [Task 1 - The Importance of Activation and Initialization](#-Task-1---The-Importance-of-Activation-and-Initialization)\n",
        "    * [Task 2 - MLP-based Deep Classifer](#-Task-2---MLP-based-Deep-Classifer)\n",
        "    * [Task 3 - Design a CNN](#-Task-3---Design-a-CNN)\n",
        "* [Credits](#-Credits)"
      ]
    },
    {
      "cell_type": "markdown",
      "metadata": {
        "id": "XKtSiQX_pGhj"
      },
      "source": [
        "### <img src=\"https://img.icons8.com/cute-clipart/64/000000/ball-point-pen.png\" style=\"height:50px;display:inline\"> Part 1 - Theory\n",
        "---\n",
        "* You can choose whether to answser these straight in the notebook (Markdown + Latex) or use another editor (Word, LyX, Latex, Overleaf...) and submit an additional PDF file, **but no handwritten submissions**.\n",
        "* You can attach additional figures (drawings, graphs,...) in a separate PDF file, just make sure to refer to them in your answers.\n",
        "\n",
        "* $\\large\\LaTeX$ <a href=\"https://kapeli.com/cheat_sheets/LaTeX_Math_Symbols.docset/Contents/Resources/Documents/index\">Cheat-Sheet</a> (to write equations)\n",
        "    * <a href=\"http://tug.ctan.org/info/latex-refsheet/LaTeX_RefSheet.pdf\">Another Cheat-Sheet</a>"
      ]
    },
    {
      "cell_type": "markdown",
      "metadata": {
        "id": "RsqSFZG1pGhj"
      },
      "source": [
        "## <img src=\"https://img.icons8.com/clouds/100/000000/question-mark.png\" style=\"height:50px;display:inline\"> Question 1 -Generalization in A Teacher-Student Setup\n",
        "---\n",
        "\n",
        "Recall from lecture 4 the Risk $\\mathcal{R}(w)$: $$ \\mathcal{R}(w) \\triangleq \\mathbb{E}_{x^{(0)} \\sim \\mathcal{N}(0, I) } \\left[ ||w^Tx^{(0)} - w_t^Tx^{(0)}||^2 \\right] $$\n",
        "\n",
        "Prove:\n",
        "\n",
        "$$ \\mathcal{R}(w) = ||w-w_t||^2 $$"
      ]
    },
    {
      "cell_type": "markdown",
      "metadata": {
        "id": "Ad_WL-oO6JaZ"
      },
      "source": [
        "## <img src=\"https://img.icons8.com/clouds/100/000000/question-mark.png\" style=\"height:50px;display:inline\"> Question 2 - Backpropagation By Hand\n",
        "---\n",
        "Consider the following network:\n",
        "<img src=\"https://raw.githubusercontent.com/taldatech/ee046211-deep-learning/main/assets/backprop_by_hand_ex1.png\" style=\"height:300px\">\n",
        "\n",
        "We will work with one sample for this example, but it can be extended to mini-batches.\n",
        "\n",
        "* Input: $x = \\begin{bmatrix} 1 \\\\ 4 \\\\ 5 \\end{bmatrix} \\in \\mathbb{R}^3$\n",
        "* Output (target): $ t = \\begin{bmatrix} 0.1 \\\\ 0.05 \\end{bmatrix} \\in \\mathbb{R}^2 $\n",
        "* Number of Hidden Layers: 1\n",
        "* Activation: Sigmoid for both hidden and output layers\n",
        "* Loss Functions: MSE\n",
        "\n",
        "We initialize the weights and biases to random values as follows:\n",
        "<img src=\"https://raw.githubusercontent.com/taldatech/ee046211-deep-learning/main/assets/backprop_by_hand_ex2.png\" style=\"height:300px\">\n",
        "\n",
        "1. Perform one forward pass and calculate the MSE.\n",
        "2. Perform backpropagation (one backward pass, i.e., calculate the gradients).\n",
        "3. With a learning rate of $\\alpha = 0.01$, what are the new values of the weights after performing the forward pass and backward pass (assume we use SGD)?"
      ]
    },
    {
      "cell_type": "markdown",
      "metadata": {
        "id": "gzCYhYyf6Jaa"
      },
      "source": [
        "## <img src=\"https://img.icons8.com/clouds/100/000000/question-mark.png\" style=\"height:50px;display:inline\"> Question 3 - Deep Double Descent\n",
        "---\n",
        "\n",
        "For the following plots:\n",
        "1. Where is the critical point (the point of transition between the \"Classical Regime\" and \"Modern Regime\") of the deep double descent?\n",
        "2. What type of double descent is shown (**look closely at the graph**)? Explain. There can be more than one correct answer.\n",
        "    \n",
        "\n",
        "a. <img src='https://raw.githubusercontent.com/taldatech/ee046211-deep-learning/main/assets/double_descent_transformer.PNG' style=\"height:300px\">\n",
        "\n",
        "b. <img src='https://raw.githubusercontent.com/taldatech/ee046211-deep-learning/main/assets/double_descent_resnet.PNG' style=\"height:400px\">\n",
        "\n",
        "c. <img src='https://raw.githubusercontent.com/taldatech/ee046211-deep-learning/main/assets/double_descent_intermediate.PNG' style=\"height:300px\">"
      ]
    },
    {
      "cell_type": "markdown",
      "metadata": {
        "id": "IzthZmNH6Jab"
      },
      "source": [
        "## <img src=\"https://img.icons8.com/clouds/100/000000/question-mark.png\" style=\"height:50px;display:inline\"> Question 4 - Initialization\n",
        "---\n",
        "Recall that in lecture 5 we were discussing how to calculate the initialization variance, and reached the conclusion that $$ \\sigma_l =\\frac{1}{\\sqrt{\\sum_j \\mathbb{E} \\left[\\varphi^2(u_{l-1}[j])\\right]}} $$\n",
        "Show that for ReLU activation ($\\varphi(z) = max(0,z)$), the optimal variance satisfies: $$ \\sigma_l = \\sqrt{\\frac{2}{d_{l-1}}}$$\n",
        "\n",
        "1. Under the assumption that the distribution of $W$ is symmetric ($\\to$ the distribution of $u$ is symmetric).\n",
        "2. Using the central limit theorem for large width.\n",
        "\n",
        "Answer each section **separately** and assume the sections are independent.\n",
        "\n",
        "All the notations are the same as in the lecture slides."
      ]
    },
    {
      "cell_type": "markdown",
      "metadata": {
        "id": "M5KF0rMU6Jad"
      },
      "source": [
        "## <img src=\"https://img.icons8.com/clouds/100/000000/question-mark.png\" style=\"height:50px;display:inline\"> Question 5 - MLP and Invaraince\n",
        "---\n",
        "\n",
        "You have to design an MLP with the following input: DNA sequences of length $d$. The DNA is a sequence of bases, where each base can be one of 4 options: $(C, T, G, A)$. Thus, the input can be described as the following matrix: $$ X \\in \\mathcal{R}^{4 \\times d}, $$ where $X[j,i]$ denotes the measured value of base concentration of the $j^{th}$ base at location $i$. \n",
        "\n",
        "The network should output a **binary** classification $y \\in \\{-1, 1\\}$ for a specific property we wish to find. The network will be trained on samples $\\{X^{(n)}, y^{(n)} \\}_{n=1}^{N}$, with a **logistic loss function**.\n",
        "\n",
        "First, we will examine a network with 1 hidden layerof size $4 \\times d$ and a **LeakyReLU** activation $\\phi$: $$ f_w(X) = \\sum_{r=1}^{4}\\sum_{k=1}^d W_2[r,k]\\phi\\left(\\sum_{j=1}^{4}\\sum_{i=1}^d W_1[r, k,j, i]X[j, i] \\right),$$ where $w=\\{W_1, W_2\\}$ are the layers of the weight **tensors**. After training is done, the classification will be done with $\\text{sign}(f(X))$.\n",
        "\n",
        "1. Which invariances exist in the network's parameters?\n",
        "2. Now, we notice the fact that: the *direction* in which the DNA is scanned is arbitrary. Thus, if for two inputs $X, \\tilde{X}$: $$ \\forall i,j: \\: X[j,i] = \\tilde{X}[j, d-i+1], $$ then the two inputs are **equivalent** in their meaning. What constraints should we put on the network's parameters to improve the network's classification performance? Explain why using an **invariant hidden layer** is not optimal.\n",
        "3. After that, we now recall that the DNA bases come in pairs, and thus if for two inputs $X, \\tilde{X}$: $$ \\forall i,j : \\: X[j,i] = \\tilde{X}[(4-j)\\text{mod}4 + 1,i] = \\tilde{X}[5-j,i], $$ then the two inputs are **equivalent** in their meaning. What constraints should we put on the network's parameters to improve the network's classification performance?\n",
        "4. We now notice that the measurement process in noisy, each sample $X^{(n)}$ is in arbitrary scale, and thus if for two $X, \\tilde{X}$: $$ \\forall i,j: \\: X[j,i] = c\\tilde{X}[j,i], $$ for some constant $c>0$, then the two inputs are **equivalent** in their meaning.\n",
        "    * (a) For the given network, that **is already trained**, what is the effect of the scale $c$ on the classification result?\n",
        "    * (b) Can the arbitrary scale hurt the training process? Hint: think what happens to the gradient of each sample.\n",
        "    * (c) How can use this information to improve the classifier performance?"
      ]
    },
    {
      "cell_type": "markdown",
      "metadata": {
        "id": "bp1jMhSV6Jae"
      },
      "source": [
        "## <img src=\"https://img.icons8.com/clouds/100/000000/question-mark.png\" style=\"height:50px;display:inline\"> Question 6 -VGG Architecture\n",
        "---\n",
        "\n",
        "1. The VGG-11 CNN architecture consists of 11 convolution (CONV)/fully-connected (FC) layers (every CONV layer has the same padding and stride, every MAXPOOL layer is 2×2 and has padding of 0 and stride 2). Fill in the table. You need to **consider the bias**.\n",
        "\n",
        "\n",
        "* CONV$M$-$N$: a convolutional layer of size $M \\times M \\times N$, where $M$ is the kernel size and $N$ is the number of filters. $stride=1, padding=1$. \n",
        "* POOL2: $2 \\times 2$ Max Pooling with $stride=2$\n",
        "    * In case the input of the layer is odd, you should round down. For example, if the output of the layer should be $3.5 \\times 3.5 \\times 3$, you should round to $3 \\times 3 \\times 3$ (i.e., ignore the last column of the input image when performing MaxPooling).\n",
        "* FC-N: a fully connected layer with $N$ neurons.\n",
        "\n",
        "\n",
        "| Layer  | Output Dimension  | Number of Parameters (Weights) |\n",
        "|---|---|---|\n",
        "| INPUT  |  224x224x3 | 0  |\n",
        "|  CONV3-64 | -  | -  | \n",
        "| ReLU |  - | -  |\n",
        "| POOL2|  - | -  |\n",
        "|CONV3-128 | - | -|\n",
        "|ReLU | - | -|\n",
        "| POOL2|  - | -  |\n",
        "|CONV3-256 | - | -|\n",
        "|ReLU | - | -|\n",
        "|CONV3-256 | - | -|\n",
        "|ReLU | - | -|\n",
        "| POOL2|  - | -  |\n",
        "|CONV3-512 | - | -|\n",
        "|ReLU | - | -|\n",
        "|CONV3-512 | - | -|\n",
        "|ReLU | - | -|\n",
        "| POOL2|  - | -  |\n",
        "|CONV3-512 | - | -|\n",
        "|ReLU | - | -|\n",
        "|CONV3-512 | - | -|\n",
        "|ReLU | - | -|\n",
        "| POOL2|  - | -  |\n",
        "| FC-4096|  - | -  |\n",
        "| FC-4096|  - | -  |\n",
        "| FC-1000|  - | -  |\n",
        "| SOFTMAX|  - | -  |\n",
        "\n",
        "2. What is the total number of parameters? (use a calculator for this one)\n",
        "3. What percentage of the weights are found in the fully-connected layers?"
      ]
    },
    {
      "cell_type": "markdown",
      "metadata": {
        "id": "7D-14iM7pGhm"
      },
      "source": [
        "### <img src=\"https://img.icons8.com/officel/80/000000/code.png\" style=\"height:50px;display:inline\"> Part 2 - Code Assignments\n",
        "---\n",
        "* You must write your code in this notebook and save it with the output of all of the code cells.\n",
        "* Additional text can be added in Markdown cells.\n",
        "* You can use any other IDE you like (PyCharm, VSCode...) to write/debug your code, but for the submission you must copy it to this notebook, run the code and save the notebook with the output."
      ]
    },
    {
      "cell_type": "markdown",
      "metadata": {
        "id": "hviVWKY56Ja6"
      },
      "source": [
        "#### Tips\n",
        "---\n",
        "1. Uniformly distributed tensors - `torch.Tensor(dim1, dim2, ...,dimN).uniform_(-1, 1)`\n",
        "2. Separation to **validation set** in PyTorch - <a href=\"https://gist.github.com/MattKleinsmith/5226a94bad5dd12ed0b871aed98cb123\">See example here</a>."
      ]
    },
    {
      "cell_type": "code",
      "execution_count": 2,
      "metadata": {
        "colab": {
          "base_uri": "https://localhost:8080/"
        },
        "id": "KxI-6sf36Ja7",
        "outputId": "61f1607a-fd68-4e21-e569-394d7064baa7"
      },
      "outputs": [
        {
          "output_type": "execute_result",
          "data": {
            "text/plain": [
              "<torch._C.Generator at 0x7f03f203ddd0>"
            ]
          },
          "metadata": {},
          "execution_count": 2
        }
      ],
      "source": [
        "# imports for the practice (you can add more if you need)\n",
        "import os\n",
        "import time\n",
        "import numpy as np\n",
        "import pandas as pd\n",
        "import torch\n",
        "import torch.nn as nn\n",
        "from torch.utils.data import TensorDataset, DataLoader\n",
        "import torchvision\n",
        "import torchvision.transforms as transforms\n",
        "import matplotlib.pyplot as plt\n",
        "from sklearn import preprocessing\n",
        "from sklearn.model_selection import train_test_split\n",
        "from sklearn.linear_model import LogisticRegression\n",
        "# %matplotlib notebook\n",
        "%matplotlib inline\n",
        "\n",
        "seed = 211\n",
        "np.random.seed(seed)\n",
        "torch.manual_seed(seed)"
      ]
    },
    {
      "cell_type": "markdown",
      "metadata": {
        "id": "PYpZ_Fnq6JbG"
      },
      "source": [
        "### <img src=\"https://img.icons8.com/color/48/000000/code.png\" style=\"height:50px;display:inline\"> Task 1 - The Importance of Activation and Initialization\n",
        "---\n",
        "In this task, we are going to use $x \\in \\mathcal{R}^{512}$ and simple neural network that outputs $f(x) \\in \\mathcal{R}^{512}$. The network will have 100 layers with 512 units in each layer.\n",
        "\n",
        "1. We initialize the weights from a unit normal distribution. Run the following code cell and explain what happens. Add a short piece of code that locates when it happens (hint: use `torch.isnan()`). **Print** the layer number.\n",
        "2. We can demonstrate that at a given layer, the matrix product of inputs $x$ and weight matrix $a$ that is initialized from a standard normal distribution will, on average, have a standard deviation very close to the square root of the number of input connections. For our example, with 512 dimensions, show that for 10,000 multiplications of $a$ and $x$, the empirical standard deviation is similar to the square root of the number of input connections. Use the unbiased version: $$ \\hat{std} = \\sqrt{\\frac{\\sum_{i=1}^{10000}\\frac{1}{N}\\sum_{j=1}^N y^2}{10000}}, $$ where $y=ax$ and $N$ is the number of input connections. **Print** the mean, std and the square root of the number of input connections.\n",
        "3. For the code from 1, normalize the weight initialization by the square root of the input connections. How does that change the outcome? **Print** the mean and std after the modification.\n",
        "4. Add a `tanh()` activation after each layer for the code from 1. **Print** the mean and std after the modification. Explain the result.\n",
        "5. Xavier initialization sets a layer’s weights to values chosen from a random uniform distribution that’s bounded between $$\\pm \\sqrt{\\frac{6}{n_i + n_{i+1}}}$$ where $n_i$ is the number of incoming network connections, or “fan-in,” to the layer, and $ n_{i+1}$ is the number of outgoing network connections from that layer, also known as the “fan-out”. Glorot and Bengio believed that Xavier weight initialization would maintain the variance of activations and back-propagated gradients all the way up or down the layers of a network and demonstrated that networks initialized with Xavier achieved substantially quicker convergence and higher accuracy. Implement **Xavier Uniform** as `xavier_init(fan_in, fan_out)`, a function that returns a tensor initialized according to **Xavier Uniform**. Use it on the simple network from 1 with `tanh` activation. **Print** the mean and std after the modification.\n",
        "6. If you try to replace the `tanh` activation with `relu` activation in section 5, you will see very different results. Xavier strives to acheive activation outputs of each layer to have a mean of 0 and a standard deviation around 1, on average. When using a ReLU activation, a single layer will, on average have standard deviation that’s very close to the square root of the number of input connections, **divided by the square root of two** ($\\sqrt{\\frac{512}{2}}$ in our example). **Kaiming He et. al.** proposed an initialization scheme that’s tailored for deep neural nets that use these kinds of asymmetric, non-linear activations. Implement **Kaiming Normal** as `kaiming_init(fan_in, fan_out)`, a function that returns a tensor initialized according to **Kaiming Normal** (use `fan_in` mode). Use it on the simple network from 1 with `relu` activation. **Print** the mean and std after the modification. What happens when you use Xavier with RelU activation?"
      ]
    },
    {
      "cell_type": "code",
      "execution_count": 2,
      "metadata": {
        "colab": {
          "base_uri": "https://localhost:8080/"
        },
        "id": "an8VWDnX6JbI",
        "outputId": "5163cbb5-aead-4d5f-cd56-d08c7395f6ed"
      },
      "outputs": [
        {
          "output_type": "stream",
          "name": "stdout",
          "text": [
            "tensor(nan) tensor(nan)\n"
          ]
        }
      ],
      "source": [
        "x = torch.randn(512)\n",
        "for i in range(100):\n",
        "    a = torch.randn(512, 512)\n",
        "    x = a @ x\n",
        "print(x.mean(), x.std())"
      ]
    },
    {
      "cell_type": "markdown",
      "metadata": {
        "id": "sveSWqQx6JbK"
      },
      "source": [
        "Your answers here"
      ]
    },
    {
      "cell_type": "markdown",
      "source": [
        "# Answers\n",
        "\n",
        "## Part 1\n",
        "\n",
        "We can see, from the code added below, that at the 28th layer, we get a nan tensor. And from the code added below that, we can see clearly why it becomes as such - The value saved inside the tensor is too large, and we are unable to save the result of another multiplication - we have an overflow."
      ],
      "metadata": {
        "id": "zhMMENec_xmb"
      }
    },
    {
      "cell_type": "code",
      "execution_count": 3,
      "metadata": {
        "colab": {
          "base_uri": "https://localhost:8080/"
        },
        "id": "kJrdESNq6JbL",
        "outputId": "fe2ec217-1dee-414a-bc39-a272c5d84c9d"
      },
      "outputs": [
        {
          "output_type": "stream",
          "name": "stdout",
          "text": [
            "The tensor becomes \"nan\" at layer 28\n"
          ]
        }
      ],
      "source": [
        "x = torch.randn(512)\n",
        "for i in range(100):\n",
        "    a = torch.randn(512, 512)\n",
        "    x = a @ x\n",
        "    if any(torch.isnan(x)):\n",
        "        print(f\"The tensor becomes \\\"nan\\\" at layer {i}\")\n",
        "        break"
      ]
    },
    {
      "cell_type": "code",
      "source": [
        "x = torch.randn(512)\n",
        "for i in range(100):\n",
        "    a = torch.randn(512, 512)\n",
        "    x = a @ x\n",
        "    if i == 27:\n",
        "        print(x)\n",
        "        break"
      ],
      "metadata": {
        "colab": {
          "base_uri": "https://localhost:8080/"
        },
        "id": "dfnrzx1__5aK",
        "outputId": "8e7faad3-bc9d-4db5-a3b1-d70093f716e8"
      },
      "execution_count": 4,
      "outputs": [
        {
          "output_type": "stream",
          "name": "stdout",
          "text": [
            "tensor([-8.4527e+37,  4.3645e+37,  4.2851e+37, -6.9702e+37, -5.1909e+37,\n",
            "        -4.6870e+37, -3.8536e+37, -1.6709e+37, -1.0397e+38, -8.9776e+37,\n",
            "         1.4821e+38,  5.4716e+37, -1.9364e+38, -1.1628e+38,  9.4751e+37,\n",
            "        -4.3693e+37, -4.2944e+37,  6.6515e+37, -2.2271e+37, -4.1311e+37,\n",
            "        -9.9851e+36,  3.7265e+37, -1.5398e+38,  1.6165e+37,  8.8216e+37,\n",
            "         1.7838e+38,  8.6490e+37,  1.3110e+38,  2.2744e+37, -1.2443e+38,\n",
            "        -1.8462e+37, -2.1282e+37,  3.7312e+37, -8.9353e+37,  1.8282e+37,\n",
            "         1.8035e+38, -1.3833e+38,  7.4019e+36, -9.5969e+37,  7.7605e+37,\n",
            "         5.1750e+36, -1.5972e+37, -6.6774e+37,  6.3252e+37,  4.7498e+37,\n",
            "         4.2656e+36,  1.0765e+38, -4.3371e+37, -2.5546e+37,  1.2547e+38,\n",
            "         4.7235e+37,  3.0897e+37,  7.9155e+37, -3.3102e+37, -9.9449e+37,\n",
            "         9.4677e+37,  7.9302e+37,  2.7087e+37, -1.6935e+37, -1.1315e+38,\n",
            "         6.8911e+37,  4.5620e+36,  1.0630e+38,  9.7206e+35, -7.0761e+36,\n",
            "         1.3046e+38,  3.6636e+37, -3.6775e+37,  7.9931e+37, -7.8819e+37,\n",
            "        -8.4375e+37, -2.5670e+37, -7.3032e+37, -1.0381e+38, -1.2954e+38,\n",
            "         5.5464e+37,  2.3374e+37,  3.1380e+37,  3.1963e+36, -7.0288e+37,\n",
            "         1.2831e+37, -6.6687e+36, -1.6697e+37, -9.1871e+37, -9.9364e+36,\n",
            "         5.5859e+37,  1.1908e+38,  1.7603e+37,  1.7943e+36,  8.2928e+37,\n",
            "         1.2858e+37,  2.8441e+37,  4.3113e+37,  2.3260e+38, -1.0980e+38,\n",
            "        -8.6787e+37,  1.8359e+37, -1.0137e+38, -3.3895e+37,  9.1161e+37,\n",
            "        -3.7156e+37,  5.7924e+37,  2.3381e+37,  2.0189e+37, -4.6723e+36,\n",
            "         7.6322e+37,  7.6011e+37, -5.8731e+37, -2.0777e+37, -8.6394e+37,\n",
            "        -8.2659e+37,  7.3228e+37, -6.8689e+36, -6.6637e+36,  7.6442e+37,\n",
            "        -2.9175e+37,  5.8299e+36,  1.0042e+38, -9.6687e+37, -1.2442e+37,\n",
            "        -6.1790e+37, -2.2928e+37, -2.5446e+37,  1.0344e+38,  5.9180e+36,\n",
            "         6.7208e+37, -1.3609e+38,  2.0216e+37,  5.2804e+37, -7.7973e+37,\n",
            "         6.1840e+35,  2.2003e+37, -7.3149e+37,  1.3314e+38,  3.7244e+37,\n",
            "        -8.5443e+37,  8.0631e+37, -1.3054e+38,  6.1180e+37, -1.1997e+38,\n",
            "        -1.2854e+38,  9.6075e+36,  5.2303e+37,  5.3545e+37,  7.4288e+37,\n",
            "        -1.7104e+37, -7.5319e+37,  1.1115e+38, -9.2394e+37,  3.3371e+37,\n",
            "        -1.0665e+38, -5.7491e+37, -5.3498e+37, -7.5897e+37,  5.0854e+37,\n",
            "        -2.1530e+38, -1.4011e+37, -1.3663e+38,  1.4577e+38, -2.9275e+36,\n",
            "        -4.9887e+37,  9.9768e+37, -3.1747e+37, -1.0681e+38,  2.8999e+37,\n",
            "        -1.8222e+37, -6.1386e+37,  4.0008e+37,  2.6452e+36, -1.7225e+37,\n",
            "        -2.0187e+37,  8.1666e+37,  4.7649e+37, -4.9558e+36, -2.0010e+36,\n",
            "        -1.7479e+36, -5.6232e+37,  6.5614e+36,  7.6305e+37, -1.1118e+38,\n",
            "        -1.4923e+38,  1.2705e+38,  7.2189e+37,  1.4281e+38, -5.7374e+37,\n",
            "         2.6596e+37, -1.0107e+38,  1.0445e+38, -4.6454e+37,  5.6346e+37,\n",
            "        -4.0074e+37,  5.3977e+37,  7.4805e+37,  4.5687e+37, -5.9519e+37,\n",
            "        -2.5068e+37, -1.6401e+37, -4.7866e+37,  9.0513e+37, -6.3590e+37,\n",
            "         1.5407e+38, -3.7416e+37, -4.0016e+37,  6.0416e+37,  1.4948e+37,\n",
            "         2.8051e+37, -2.2627e+36,  8.2254e+37, -1.0759e+38, -1.5311e+38,\n",
            "        -4.3998e+37, -5.8115e+37, -2.2943e+38, -5.4128e+37,  3.8501e+37,\n",
            "        -2.2375e+37, -2.5917e+37, -4.0354e+37,  7.5810e+37,  4.5554e+37,\n",
            "        -3.7124e+36,  8.6133e+36,  3.4640e+37, -7.7318e+37,  9.2656e+37,\n",
            "         2.5459e+37, -4.5916e+37,  4.7520e+37,  7.6300e+37,  1.4416e+37,\n",
            "         1.1285e+38,  1.2343e+38,  9.4960e+36, -1.1167e+36,  3.1137e+37,\n",
            "         4.3151e+37, -6.3282e+35, -3.7467e+37, -1.9551e+37, -3.4638e+37,\n",
            "        -1.0785e+37,  1.0231e+38, -6.6043e+37,  1.1123e+38, -2.8134e+37,\n",
            "         1.2230e+38, -2.1068e+37,  1.0380e+38,  6.7145e+36,  2.5171e+37,\n",
            "         3.1770e+37, -3.0363e+37, -5.9082e+37,  2.4613e+37,  3.6500e+37,\n",
            "         7.9495e+37,  1.5720e+38,  1.9845e+37, -1.7118e+38,  6.3733e+37,\n",
            "        -1.0613e+38, -7.9482e+37,  6.0143e+36,  1.2211e+38, -1.4648e+37,\n",
            "         8.4909e+37,  9.4555e+37,  1.3107e+36,  4.2200e+37, -3.8233e+36,\n",
            "        -7.0396e+37, -2.0365e+37, -1.0889e+38, -1.1476e+38,  1.4086e+37,\n",
            "        -2.1752e+37,  1.3372e+38,  1.2833e+38,  1.4948e+37, -1.2086e+37,\n",
            "        -8.3996e+37, -1.5358e+37,  6.8046e+37,  1.1735e+37,  1.1650e+38,\n",
            "         1.4032e+38,  5.8178e+37,  2.8978e+37,  2.4884e+37, -5.7495e+37,\n",
            "        -2.1920e+37,  2.1110e+36, -7.2910e+37, -6.5486e+37,  1.5272e+36,\n",
            "        -6.3548e+37,  1.7058e+37, -2.8419e+37, -2.6680e+37,  1.6104e+36,\n",
            "         6.1882e+37, -2.7382e+37,  8.6877e+37, -6.7726e+37, -7.0021e+37,\n",
            "        -3.3369e+36,  1.4273e+37,  3.3043e+37, -1.0766e+38,  1.4052e+38,\n",
            "        -8.3034e+37,  3.9127e+37,  3.6671e+37, -3.0956e+37, -3.2471e+37,\n",
            "        -2.1157e+38, -1.4662e+38, -1.0914e+38, -6.2068e+37,  8.8736e+37,\n",
            "        -7.2918e+37,  8.7391e+37,  6.2698e+37, -9.7268e+37, -6.5304e+36,\n",
            "         3.3078e+37,  1.7545e+37, -3.8870e+37, -1.1515e+37, -2.7247e+37,\n",
            "         2.4766e+37,  7.0815e+37, -7.9469e+37, -1.1690e+38,  4.9878e+36,\n",
            "        -4.7403e+37,  5.4900e+37,  7.5604e+37, -6.9831e+37,  7.6489e+37,\n",
            "        -3.3087e+37, -5.5021e+37, -5.6164e+37, -4.4717e+37, -7.9563e+37,\n",
            "         1.0376e+38, -5.2073e+37,  1.0532e+38,  1.1422e+37,  6.1055e+37,\n",
            "         2.2358e+37, -6.5369e+37, -5.7900e+37, -5.9413e+37,  1.4586e+38,\n",
            "        -3.9702e+37,  7.4250e+37,  6.5848e+37,  2.2544e+37,  1.5794e+36,\n",
            "        -5.0688e+37,  9.8257e+37, -1.9413e+37, -5.5887e+37, -7.0643e+37,\n",
            "         4.6986e+37,  9.5120e+37,  1.2248e+37, -9.9627e+37, -9.2314e+37,\n",
            "        -1.3142e+38,  5.6769e+37, -2.8537e+36,  6.8764e+37, -7.4644e+37,\n",
            "        -4.1787e+37, -1.3494e+38, -4.9325e+36, -5.4965e+37,  5.0863e+37,\n",
            "        -1.3453e+37, -6.6335e+37, -4.6436e+37,  5.3173e+37, -1.3588e+38,\n",
            "         2.1958e+37,  2.1942e+37,  6.4199e+37, -1.7531e+37,  8.1147e+37,\n",
            "        -1.6365e+37, -2.0648e+38,  7.7874e+36,  4.8261e+37, -2.9315e+37,\n",
            "         5.1675e+37, -5.6369e+37,  6.5216e+37,  4.1438e+36, -2.8729e+37,\n",
            "        -6.1463e+37, -7.4313e+37, -1.0812e+38,  1.7671e+37,  6.4572e+36,\n",
            "         9.2329e+37, -1.1001e+38, -5.0349e+37,  3.0607e+37,  1.7051e+37,\n",
            "         6.7690e+37,  1.3326e+36, -2.6360e+37,  1.3621e+38,  1.5799e+37,\n",
            "        -7.8658e+37,  5.3992e+37, -8.6483e+37,  2.3776e+37,  1.3271e+38,\n",
            "        -3.2111e+37,  2.1738e+37, -8.8744e+37,  2.2039e+37,  1.3027e+37,\n",
            "        -5.2718e+37, -1.0629e+38,  1.3235e+38,  7.1115e+37,  1.0222e+36,\n",
            "        -6.7693e+36, -7.6122e+37, -1.0988e+38,  1.0039e+38,  1.6938e+37,\n",
            "         9.7862e+37,  2.1150e+35, -4.4607e+37,  6.8906e+37,  2.5959e+37,\n",
            "         7.2520e+37, -7.1783e+37,  4.0616e+37,  8.2983e+37, -5.9641e+37,\n",
            "        -2.7047e+37,  8.0541e+37, -1.5508e+37,  7.9777e+36, -1.2519e+38,\n",
            "         1.2017e+38,  4.8010e+37, -2.2432e+37, -2.1561e+37, -7.0511e+37,\n",
            "         4.2939e+36, -9.0371e+36, -1.6413e+35,  1.0595e+37,  1.1178e+38,\n",
            "        -2.0012e+37, -9.5853e+37, -1.0172e+38, -4.1574e+37,  3.5939e+37,\n",
            "         6.2641e+37,  2.1150e+37, -7.2788e+37, -1.4249e+37, -4.9819e+36,\n",
            "         1.5511e+38, -1.1362e+38, -2.8132e+37,  4.2357e+37, -5.3005e+36,\n",
            "        -7.4075e+37, -7.5830e+37, -2.2771e+37,  6.8020e+37, -1.4394e+35,\n",
            "        -3.4950e+37, -9.3717e+37, -5.0237e+37, -1.1017e+38, -1.6571e+37,\n",
            "        -2.5520e+37,  1.2778e+38, -2.4716e+37, -3.9128e+37,  3.4437e+37,\n",
            "         1.5052e+36, -1.6930e+37,  3.2133e+37,  1.5095e+38, -2.4743e+37,\n",
            "        -1.3411e+38,  1.1673e+38, -1.5994e+38, -7.2217e+37,  7.8442e+37,\n",
            "        -1.8654e+36, -3.7954e+37, -5.1576e+37, -5.4026e+37, -7.4571e+37,\n",
            "         6.4560e+37, -1.1674e+38, -2.5899e+37,  1.3726e+38,  2.2544e+37,\n",
            "         3.5222e+37, -3.3382e+37])\n"
          ]
        }
      ]
    },
    {
      "cell_type": "markdown",
      "source": [
        "## Part 2\n",
        "\n",
        "As we can see, the empirical STD is indeed similar to the square root of N"
      ],
      "metadata": {
        "id": "wxDv4ktiACIZ"
      }
    },
    {
      "cell_type": "code",
      "source": [
        "var = 0\n",
        "mean = 0\n",
        "runs = 10000\n",
        "\n",
        "for idx in range(runs):\n",
        "    x = torch.randn(512)\n",
        "    a = torch.randn(512, 512)\n",
        "    y = a @ x\n",
        "    var += y.var()\n",
        "    mean += y.mean()\n",
        "\n",
        "emp_std = torch.sqrt(var / runs)\n",
        "print(f\"Empirical STD: {emp_std}\")\n",
        "print(f\"Mean: {mean/runs}\")\n",
        "print(f\"Sqrt of N: {np.sqrt(512)}\")"
      ],
      "metadata": {
        "colab": {
          "base_uri": "https://localhost:8080/"
        },
        "id": "fTSx4Eb3AD5a",
        "outputId": "f5dd2b13-2067-4d93-f93d-6bd27d6e6c8c"
      },
      "execution_count": 5,
      "outputs": [
        {
          "output_type": "stream",
          "name": "stdout",
          "text": [
            "Empirical STD: 22.62225341796875\n",
            "Mean: 0.012456858530640602\n",
            "Sqrt of N: 22.627416997969522\n"
          ]
        }
      ]
    },
    {
      "cell_type": "markdown",
      "source": [
        "## Part 3\n",
        "\n",
        "Normalizing the weights gives us the following:"
      ],
      "metadata": {
        "id": "TfEQ-I7wAStA"
      }
    },
    {
      "cell_type": "code",
      "source": [
        "x = torch.randn(512)\n",
        "flag = False\n",
        "for i in range(100):\n",
        "    a = torch.randn(512, 512)\n",
        "    a = a / np.sqrt(512)\n",
        "    x = a @ x\n",
        "    if any(torch.isnan(x)) and not flag:\n",
        "        print(f\"The tensor becomes \\\"nan\\\" at layer {i}\")\n",
        "        flag = True\n",
        "print(x.mean(), x.std())"
      ],
      "metadata": {
        "colab": {
          "base_uri": "https://localhost:8080/"
        },
        "id": "SLguc5-eAdCI",
        "outputId": "e2be136d-391e-4546-b418-902f475ff970"
      },
      "execution_count": 6,
      "outputs": [
        {
          "output_type": "stream",
          "name": "stdout",
          "text": [
            "tensor(-0.0268) tensor(1.2045)\n"
          ]
        }
      ]
    },
    {
      "cell_type": "markdown",
      "source": [
        "## Part 4\n",
        "\n",
        "As we see, we no longer have the problem of divergence, as tanh is bounded by $\\frac{\\pi}{2}$. Also, as tanh is symmetric, we keep our mean close to 0."
      ],
      "metadata": {
        "id": "r28V3Ki3Bx-J"
      }
    },
    {
      "cell_type": "code",
      "source": [
        "x = torch.randn(512)\n",
        "flag = False\n",
        "for i in range(100):\n",
        "    a = torch.randn(512, 512)\n",
        "    x = a @ x\n",
        "    x = torch.tanh(x)\n",
        "    if any(torch.isnan(x)) and not flag:\n",
        "        print(f\"The tensor becomes \\\"nan\\\" at layer {i}\")\n",
        "        flag = True\n",
        "print(x.mean(), x.std())"
      ],
      "metadata": {
        "colab": {
          "base_uri": "https://localhost:8080/"
        },
        "id": "_pUcaaZvB3Ns",
        "outputId": "233df22e-35d3-4036-c506-4bc71ffd3e03"
      },
      "execution_count": 7,
      "outputs": [
        {
          "output_type": "stream",
          "name": "stdout",
          "text": [
            "tensor(-0.0537) tensor(0.9772)\n"
          ]
        }
      ]
    },
    {
      "cell_type": "markdown",
      "source": [
        "### Part 5\n",
        "We'll print the mean and std."
      ],
      "metadata": {
        "id": "3DBwpxrXB_OQ"
      }
    },
    {
      "cell_type": "code",
      "source": [
        "def xavier_init(fan_in, fan_out):\n",
        "    bound = np.sqrt(6 / (fan_in + fan_out))\n",
        "    xav = -2 * bound * torch.rand(fan_in, fan_out) + bound\n",
        "    return xav"
      ],
      "metadata": {
        "id": "g6FKhz6iCgWv"
      },
      "execution_count": 8,
      "outputs": []
    },
    {
      "cell_type": "code",
      "source": [
        "x = torch.randn(512)\n",
        "for i in range(100):\n",
        "    a = xavier_init(512, 512)\n",
        "    x = a @ x\n",
        "    x = torch.tanh(x)\n",
        "print(x.mean(), x.std())"
      ],
      "metadata": {
        "colab": {
          "base_uri": "https://localhost:8080/"
        },
        "id": "zPO09XTCChsQ",
        "outputId": "767234bb-29ac-4cf3-e259-e788a71a279a"
      },
      "execution_count": 9,
      "outputs": [
        {
          "output_type": "stream",
          "name": "stdout",
          "text": [
            "tensor(0.0031) tensor(0.1019)\n"
          ]
        }
      ]
    },
    {
      "cell_type": "markdown",
      "source": [
        "## Part 6\n",
        "\n",
        "After implementing the function, we see a good std and mean - close to 1 and 0 respectively.\n",
        "After using the relu with the Xavier initialization, we get much worse results for the std - very close to 0."
      ],
      "metadata": {
        "id": "ke-Xci-qCgBw"
      }
    },
    {
      "cell_type": "code",
      "source": [
        "def kaiming_init(fan_in, fan_out):\n",
        "    gain = np.sqrt(2)\n",
        "    std = gain/np.sqrt(fan_in)\n",
        "    he = std * torch.randn(fan_in, fan_out)\n",
        "    return he"
      ],
      "metadata": {
        "id": "_6JQH0jOC6cY"
      },
      "execution_count": 10,
      "outputs": []
    },
    {
      "cell_type": "code",
      "source": [
        "x = torch.randn(512)\n",
        "for i in range(100):\n",
        "    a = kaiming_init(512, 512)\n",
        "    x = torch.relu(a @ x)\n",
        "print(x.mean(), x.std())"
      ],
      "metadata": {
        "colab": {
          "base_uri": "https://localhost:8080/"
        },
        "id": "yH9HKXmLC9p3",
        "outputId": "10ca070c-8cc4-4f07-a910-281d829d75b7"
      },
      "execution_count": 11,
      "outputs": [
        {
          "output_type": "stream",
          "name": "stdout",
          "text": [
            "tensor(0.3074) tensor(0.4315)\n"
          ]
        }
      ]
    },
    {
      "cell_type": "code",
      "source": [
        "x = torch.randn(512)\n",
        "for i in range(100):\n",
        "    a = xavier_init(512, 512)\n",
        "    x = torch.relu(a @ x)\n",
        "print(x.mean(), x.std())"
      ],
      "metadata": {
        "colab": {
          "base_uri": "https://localhost:8080/"
        },
        "id": "LDh6BNBlDBX9",
        "outputId": "e9cf8007-1448-401a-a3ec-896595ad9f17"
      },
      "execution_count": 12,
      "outputs": [
        {
          "output_type": "stream",
          "name": "stdout",
          "text": [
            "tensor(3.5351e-16) tensor(5.2431e-16)\n"
          ]
        }
      ]
    },
    {
      "cell_type": "markdown",
      "metadata": {
        "id": "6Q3qUW_n6JbM"
      },
      "source": [
        "### <img src=\"https://img.icons8.com/color/48/000000/code.png\" style=\"height:50px;display:inline\"> Task 2 - MLP-based Deep Classifer\n",
        "---\n",
        "In this task you are going to design and train your first neural network for classification.\n",
        "\n",
        "For this task, we will use the \"<a href=\"https://archive.ics.uci.edu/ml/datasets/MAGIC+Gamma+Telescope\">MAGIC Gamma Telescope Data Set\"</a>. Cherenkov gamma telescope observes high energy gamma rays, taking advantage of the radiation emitted by charged particles produced inside the electromagnetic showers initiated by the gammas, and developing in the atmosphere. This Cherenkov radiation (of visible to UV wavelengths) leaks through the atmosphere and gets recorded in the detector, allowing reconstruction of the shower parameters. The available information consists of pulses left by the incoming Cherenkov photons on the photomultiplier tubes, arranged in a plane, the camera. \n",
        "\n",
        "Depending on the energy of the primary gamma, a total of few hundreds to some 10000 Cherenkov photons get collected, in patterns (called the shower image), allowing to discriminate statistically those caused by primary gammas (**signal**) from the images of hadronic showers initiated by cosmic rays in the upper atmosphere (**background**).\n",
        "\n",
        "Our data has 10 features and 2 classes (signal and background).\n",
        "\n",
        "1. Load the MAGIC dataset sored in `magic04.data` and display the first 5 features (just run the cell).\n",
        "2. Separate the data to train, validation and test, reserve 10% of the data for validation and 20% for test.\n",
        "3. Perform pre-processing steps of your choice and convert the class label from `str` to `int` (for example, `y_train = np.array([0 if y_train[i] == 'g' else 1 for i in range(len(y_train))]).astype(np.int)`).\n",
        "4. Train a Logistic Regression model from `sklearn` as a baseline for our neural network (only for this section use both the train and validation sets for training the classifier). **Print the test accuracy**.\n",
        "5. Convert the `numpy` arrays to `torch` tensors with `TensorDataset` as done in the tutorial.\n",
        "6. Design a **MLP** to classify the data. Optimize the hyper-parameters of your model using the accuracy on the validation set, and when you are satisfied with the model train it on both the train and validation sets and evaluate it on the test set. **You need to reach at least 85% accuracy on the test set, and 87% for a full grade**.\n",
        "    * You have a free choice of architecture, optimizer, learning scheduler, initialization, regularization and activations.\n",
        "    * The loss criterion is binary cross entropy: `nn.BCEWithLogitsLoss()` (performs `sigmoid` for you) or `nn.BCELoss` (you need to apply `sigmoid` on the network output yourself).\n",
        "    * In a Markdown block, write down the chosen architectures and all the hyper-parameters.\n",
        "        * Make sure to describe any design choice that you used to improve the performance (e.g. if you used a certain regularization or layer, mention it and describe why you think it helped).\n",
        "    * **Plot** the loss curves (and any oter statistic you want) as a function of epochs/iterations. **Print** the final performance.\n",
        "    * **Print** the test accuracy.\n",
        "3. Change the initialization of the linear layers and re-train the model (with the same optimal hyper-parameters you found). You can pick an initialization of your choosing from : https://pytorch.org/docs/stable/nn.init.html . See example below how to use. **Print** the change in accuracy."
      ]
    },
    {
      "cell_type": "markdown",
      "source": [
        "## Part 1"
      ],
      "metadata": {
        "id": "kidbxmFtLD3X"
      }
    },
    {
      "cell_type": "code",
      "execution_count": 13,
      "metadata": {
        "colab": {
          "base_uri": "https://localhost:8080/",
          "height": 207
        },
        "id": "jX3OX8RG6JbQ",
        "outputId": "c9986d33-0d6b-4890-d2ec-cecd300f318c"
      },
      "outputs": [
        {
          "output_type": "execute_result",
          "data": {
            "text/plain": [
              "    fLength    fWidth   fSize   fConc  fConc1     fAsym  fM3Long  fM3Trans  \\\n",
              "0   28.7967   16.0021  2.6449  0.3918  0.1982   27.7004  22.0110   -8.2027   \n",
              "1   31.6036   11.7235  2.5185  0.5303  0.3773   26.2722  23.8238   -9.9574   \n",
              "2  162.0520  136.0310  4.0612  0.0374  0.0187  116.7410 -64.8580  -45.2160   \n",
              "3   23.8172    9.5728  2.3385  0.6147  0.3922   27.2107  -6.4633   -7.1513   \n",
              "4   75.1362   30.9205  3.1611  0.3168  0.1832   -5.5277  28.5525   21.8393   \n",
              "\n",
              "    fAlpha     fDist class  \n",
              "0  40.0920   81.8828     g  \n",
              "1   6.3609  205.2610     g  \n",
              "2  76.9600  256.7880     g  \n",
              "3  10.4490  116.7370     g  \n",
              "4   4.6480  356.4620     g  "
            ],
            "text/html": [
              "\n",
              "  <div id=\"df-30ff6240-da5a-4b5e-bf8f-29d1c2bd5e3c\">\n",
              "    <div class=\"colab-df-container\">\n",
              "      <div>\n",
              "<style scoped>\n",
              "    .dataframe tbody tr th:only-of-type {\n",
              "        vertical-align: middle;\n",
              "    }\n",
              "\n",
              "    .dataframe tbody tr th {\n",
              "        vertical-align: top;\n",
              "    }\n",
              "\n",
              "    .dataframe thead th {\n",
              "        text-align: right;\n",
              "    }\n",
              "</style>\n",
              "<table border=\"1\" class=\"dataframe\">\n",
              "  <thead>\n",
              "    <tr style=\"text-align: right;\">\n",
              "      <th></th>\n",
              "      <th>fLength</th>\n",
              "      <th>fWidth</th>\n",
              "      <th>fSize</th>\n",
              "      <th>fConc</th>\n",
              "      <th>fConc1</th>\n",
              "      <th>fAsym</th>\n",
              "      <th>fM3Long</th>\n",
              "      <th>fM3Trans</th>\n",
              "      <th>fAlpha</th>\n",
              "      <th>fDist</th>\n",
              "      <th>class</th>\n",
              "    </tr>\n",
              "  </thead>\n",
              "  <tbody>\n",
              "    <tr>\n",
              "      <th>0</th>\n",
              "      <td>28.7967</td>\n",
              "      <td>16.0021</td>\n",
              "      <td>2.6449</td>\n",
              "      <td>0.3918</td>\n",
              "      <td>0.1982</td>\n",
              "      <td>27.7004</td>\n",
              "      <td>22.0110</td>\n",
              "      <td>-8.2027</td>\n",
              "      <td>40.0920</td>\n",
              "      <td>81.8828</td>\n",
              "      <td>g</td>\n",
              "    </tr>\n",
              "    <tr>\n",
              "      <th>1</th>\n",
              "      <td>31.6036</td>\n",
              "      <td>11.7235</td>\n",
              "      <td>2.5185</td>\n",
              "      <td>0.5303</td>\n",
              "      <td>0.3773</td>\n",
              "      <td>26.2722</td>\n",
              "      <td>23.8238</td>\n",
              "      <td>-9.9574</td>\n",
              "      <td>6.3609</td>\n",
              "      <td>205.2610</td>\n",
              "      <td>g</td>\n",
              "    </tr>\n",
              "    <tr>\n",
              "      <th>2</th>\n",
              "      <td>162.0520</td>\n",
              "      <td>136.0310</td>\n",
              "      <td>4.0612</td>\n",
              "      <td>0.0374</td>\n",
              "      <td>0.0187</td>\n",
              "      <td>116.7410</td>\n",
              "      <td>-64.8580</td>\n",
              "      <td>-45.2160</td>\n",
              "      <td>76.9600</td>\n",
              "      <td>256.7880</td>\n",
              "      <td>g</td>\n",
              "    </tr>\n",
              "    <tr>\n",
              "      <th>3</th>\n",
              "      <td>23.8172</td>\n",
              "      <td>9.5728</td>\n",
              "      <td>2.3385</td>\n",
              "      <td>0.6147</td>\n",
              "      <td>0.3922</td>\n",
              "      <td>27.2107</td>\n",
              "      <td>-6.4633</td>\n",
              "      <td>-7.1513</td>\n",
              "      <td>10.4490</td>\n",
              "      <td>116.7370</td>\n",
              "      <td>g</td>\n",
              "    </tr>\n",
              "    <tr>\n",
              "      <th>4</th>\n",
              "      <td>75.1362</td>\n",
              "      <td>30.9205</td>\n",
              "      <td>3.1611</td>\n",
              "      <td>0.3168</td>\n",
              "      <td>0.1832</td>\n",
              "      <td>-5.5277</td>\n",
              "      <td>28.5525</td>\n",
              "      <td>21.8393</td>\n",
              "      <td>4.6480</td>\n",
              "      <td>356.4620</td>\n",
              "      <td>g</td>\n",
              "    </tr>\n",
              "  </tbody>\n",
              "</table>\n",
              "</div>\n",
              "      <button class=\"colab-df-convert\" onclick=\"convertToInteractive('df-30ff6240-da5a-4b5e-bf8f-29d1c2bd5e3c')\"\n",
              "              title=\"Convert this dataframe to an interactive table.\"\n",
              "              style=\"display:none;\">\n",
              "        \n",
              "  <svg xmlns=\"http://www.w3.org/2000/svg\" height=\"24px\"viewBox=\"0 0 24 24\"\n",
              "       width=\"24px\">\n",
              "    <path d=\"M0 0h24v24H0V0z\" fill=\"none\"/>\n",
              "    <path d=\"M18.56 5.44l.94 2.06.94-2.06 2.06-.94-2.06-.94-.94-2.06-.94 2.06-2.06.94zm-11 1L8.5 8.5l.94-2.06 2.06-.94-2.06-.94L8.5 2.5l-.94 2.06-2.06.94zm10 10l.94 2.06.94-2.06 2.06-.94-2.06-.94-.94-2.06-.94 2.06-2.06.94z\"/><path d=\"M17.41 7.96l-1.37-1.37c-.4-.4-.92-.59-1.43-.59-.52 0-1.04.2-1.43.59L10.3 9.45l-7.72 7.72c-.78.78-.78 2.05 0 2.83L4 21.41c.39.39.9.59 1.41.59.51 0 1.02-.2 1.41-.59l7.78-7.78 2.81-2.81c.8-.78.8-2.07 0-2.86zM5.41 20L4 18.59l7.72-7.72 1.47 1.35L5.41 20z\"/>\n",
              "  </svg>\n",
              "      </button>\n",
              "      \n",
              "  <style>\n",
              "    .colab-df-container {\n",
              "      display:flex;\n",
              "      flex-wrap:wrap;\n",
              "      gap: 12px;\n",
              "    }\n",
              "\n",
              "    .colab-df-convert {\n",
              "      background-color: #E8F0FE;\n",
              "      border: none;\n",
              "      border-radius: 50%;\n",
              "      cursor: pointer;\n",
              "      display: none;\n",
              "      fill: #1967D2;\n",
              "      height: 32px;\n",
              "      padding: 0 0 0 0;\n",
              "      width: 32px;\n",
              "    }\n",
              "\n",
              "    .colab-df-convert:hover {\n",
              "      background-color: #E2EBFA;\n",
              "      box-shadow: 0px 1px 2px rgba(60, 64, 67, 0.3), 0px 1px 3px 1px rgba(60, 64, 67, 0.15);\n",
              "      fill: #174EA6;\n",
              "    }\n",
              "\n",
              "    [theme=dark] .colab-df-convert {\n",
              "      background-color: #3B4455;\n",
              "      fill: #D2E3FC;\n",
              "    }\n",
              "\n",
              "    [theme=dark] .colab-df-convert:hover {\n",
              "      background-color: #434B5C;\n",
              "      box-shadow: 0px 1px 3px 1px rgba(0, 0, 0, 0.15);\n",
              "      filter: drop-shadow(0px 1px 2px rgba(0, 0, 0, 0.3));\n",
              "      fill: #FFFFFF;\n",
              "    }\n",
              "  </style>\n",
              "\n",
              "      <script>\n",
              "        const buttonEl =\n",
              "          document.querySelector('#df-30ff6240-da5a-4b5e-bf8f-29d1c2bd5e3c button.colab-df-convert');\n",
              "        buttonEl.style.display =\n",
              "          google.colab.kernel.accessAllowed ? 'block' : 'none';\n",
              "\n",
              "        async function convertToInteractive(key) {\n",
              "          const element = document.querySelector('#df-30ff6240-da5a-4b5e-bf8f-29d1c2bd5e3c');\n",
              "          const dataTable =\n",
              "            await google.colab.kernel.invokeFunction('convertToInteractive',\n",
              "                                                     [key], {});\n",
              "          if (!dataTable) return;\n",
              "\n",
              "          const docLinkHtml = 'Like what you see? Visit the ' +\n",
              "            '<a target=\"_blank\" href=https://colab.research.google.com/notebooks/data_table.ipynb>data table notebook</a>'\n",
              "            + ' to learn more about interactive tables.';\n",
              "          element.innerHTML = '';\n",
              "          dataTable['output_type'] = 'display_data';\n",
              "          await google.colab.output.renderOutput(dataTable, element);\n",
              "          const docLink = document.createElement('div');\n",
              "          docLink.innerHTML = docLinkHtml;\n",
              "          element.appendChild(docLink);\n",
              "        }\n",
              "      </script>\n",
              "    </div>\n",
              "  </div>\n",
              "  "
            ]
          },
          "metadata": {},
          "execution_count": 13
        }
      ],
      "source": [
        "# loading the data\n",
        "col_names = ['fLength', 'fWidth', 'fSize', 'fConc', 'fConc1', 'fAsym',  'fM3Long', 'fM3Trans', 'fAlpha', 'fDist', 'class']\n",
        "feature_names = ['fLength', 'fWidth', 'fSize', 'fConc', 'fConc1', 'fAsym',  'fM3Long', 'fM3Trans', 'fAlpha', 'fDist']\n",
        "data = pd.read_csv(\"./magic04.data\", names=col_names)\n",
        "X = data[feature_names]\n",
        "Y = data['class']\n",
        "data.head()"
      ]
    },
    {
      "cell_type": "markdown",
      "source": [
        "## Part 2"
      ],
      "metadata": {
        "id": "_REImISJNArp"
      }
    },
    {
      "cell_type": "code",
      "execution_count": 14,
      "metadata": {
        "id": "TLTd5Olf6JbS"
      },
      "outputs": [],
      "source": [
        "x_train, x_test, y_train, y_test = train_test_split(X, Y, test_size=0.3)"
      ]
    },
    {
      "cell_type": "markdown",
      "source": [
        "## Part 3"
      ],
      "metadata": {
        "id": "G2xpPNm8NIH_"
      }
    },
    {
      "cell_type": "code",
      "execution_count": 15,
      "metadata": {
        "id": "46XVSiKm6JbS"
      },
      "outputs": [],
      "source": [
        "y_train_prep = np.array([0 if y == 'g' else 1 for y in y_train]).astype(np.int64)\n",
        "y_test_prep = np.array([0 if y == 'g' else 1 for y in y_test]).astype(np.int64)\n",
        "\n",
        "x_train_prep = (x_train.values - np.mean(x_train.values, axis=0)) / np.std(x_train.values, axis=0)\n",
        "x_test_prep = (x_test.values - np.mean(x_test.values, axis=0)) / np.std(x_train.values, axis=0)"
      ]
    },
    {
      "cell_type": "markdown",
      "source": [
        "### Part 4"
      ],
      "metadata": {
        "id": "KaDuDQ9nNRAw"
      }
    },
    {
      "cell_type": "code",
      "execution_count": 16,
      "metadata": {
        "colab": {
          "base_uri": "https://localhost:8080/"
        },
        "id": "89J3On0O6JbT",
        "outputId": "b46a102c-1c19-4e89-c2a8-2c4f142dbe06"
      },
      "outputs": [
        {
          "output_type": "stream",
          "name": "stdout",
          "text": [
            "Number of mislabeled points 2757 out of 13314 total points.\n",
            "Logistic Regression Model accuracy = 0.7893445495969156\n"
          ]
        }
      ],
      "source": [
        "# training a Logistic Regression baseline - complete the code with your variables\n",
        "logstic_model = LogisticRegression(solver='lbfgs')\n",
        "y_pred = logstic_model.fit(x_train_prep, y_train_prep).predict(x_train_prep)\n",
        "print(\"Number of mislabeled points %d out of %d total points.\"% ((y_train_prep != y_pred).sum(), x_train.shape[0]))\n",
        "print(\"Logistic Regression Model accuracy =\" , logstic_model.score(x_test_prep, y_test_prep))"
      ]
    },
    {
      "cell_type": "markdown",
      "source": [
        "## Part 5"
      ],
      "metadata": {
        "id": "h0EnylO4NXwX"
      }
    },
    {
      "cell_type": "code",
      "execution_count": 17,
      "metadata": {
        "id": "hGGAJkme6JbW"
      },
      "outputs": [],
      "source": [
        "# model, hyoer-paramerters and training\n",
        "gamma_tensor_train_ds = TensorDataset(torch.from_numpy(x_train_prep).float(), torch.from_numpy(y_train_prep).float())\n",
        "gamma_tensor_test_ds = TensorDataset(torch.from_numpy(x_test_prep).float(), torch.from_numpy(y_test_prep).float())"
      ]
    },
    {
      "cell_type": "markdown",
      "source": [
        "### Part 6\n",
        "\n",
        "The architecture we chose is as such:\n",
        "\n",
        "- Hidden linear layer with output dimension of 100\n",
        "- Hidden ReLU layer\n",
        "- Hidden linear layer with output dimension of 300\n",
        "- Hidden ReLu layer\n",
        "- Output layer with 1 output layer\n",
        "\n",
        "To make this architecture we built upon the one given in the recitation. After seeing that the same architecture, but with a small amount of intermediary connections, didn't give great results, we decided to increase the number of connections, eventually settling on the values seen above.\n",
        "\n",
        "We chose the following hyperparameters:\n",
        "\n",
        "- Batch size: 128\n",
        "- Learning rate: Constant 0.005\n",
        "- Epochs: 400\n",
        "- Optimizer: Adam with default parameters\n",
        "- Loss criterion: **BCEWithLogitsLoss**"
      ],
      "metadata": {
        "id": "cJ6hh4k5NfRY"
      }
    },
    {
      "cell_type": "code",
      "execution_count": 18,
      "metadata": {
        "id": "d3lIQfMs6JbY"
      },
      "outputs": [],
      "source": [
        "# example of weight initialization\n",
        "class GammaModel(nn.Module):\n",
        "    def __init__(self, input_dim, output_dim):\n",
        "        super(GammaModel, self).__init__()\n",
        "\n",
        "        self.hidden = nn.Sequential(nn.Linear(input_dim, 100),\n",
        "                                    nn.ReLU(),\n",
        "                                    nn.Linear(100,300),\n",
        "                                    nn.ReLU())\n",
        "        self.output_layer = nn.Linear(300, output_dim)\n",
        "\n",
        "    def forward(self, x):\n",
        "\n",
        "        return self.output_layer(self.hidden(x))"
      ]
    },
    {
      "cell_type": "code",
      "source": [
        "num_features = x_train_prep.shape[1]\n",
        "output_dim = 1\n",
        "batch_size = 128\n",
        "learning_rate = 0.005\n",
        "num_epochs = 400\n",
        "\n",
        "device = torch.device(\"cuda:0\" if torch.cuda.is_available() else \"cpu\")\n",
        "\n",
        "model = GammaModel(num_features, output_dim).to(device)\n",
        "criterion = nn.BCEWithLogitsLoss()\n",
        "optimizer = torch.optim.Adam(model.parameters(), lr=learning_rate)"
      ],
      "metadata": {
        "id": "HV4alW0JOIhB"
      },
      "execution_count": 19,
      "outputs": []
    },
    {
      "cell_type": "code",
      "source": [
        "gamma_tensor_train_dataloader = DataLoader(gamma_tensor_train_ds, batch_size=batch_size, shuffle=True)\n",
        "# gamma_tensor_test_dataloader = DataLoader(gamma_tensor_test_ds, batch_size=batch_size, shuffle=True)\n",
        "\n",
        "losses = []\n",
        "for epoch in range(num_epochs):\n",
        "    model.train()\n",
        "    epoch_losses = []\n",
        "    for features, targets in gamma_tensor_train_dataloader:\n",
        "        features = features.to(device)\n",
        "        targets = targets.to(device)\n",
        "        # forward pass\n",
        "        output = model(features)\n",
        "        # loss\n",
        "        loss = criterion(output.view(-1), targets)\n",
        "        # backward pass\n",
        "        optimizer.zero_grad()\n",
        "        loss.backward()\n",
        "        optimizer.step()\n",
        "        epoch_losses.append(loss.item())\n",
        "    if epoch % 50 == 0:\n",
        "        print(f\"epoch: {epoch} loss: {np.mean(epoch_losses)}\")\n",
        "    losses.append(loss.item())\n",
        "print(f\"epoch: 400 loss: {np.mean(epoch_losses)}\")"
      ],
      "metadata": {
        "colab": {
          "base_uri": "https://localhost:8080/"
        },
        "id": "9ybCVicIOKKf",
        "outputId": "9547d608-387f-45a6-9ace-8b3a6d0cb87a"
      },
      "execution_count": 20,
      "outputs": [
        {
          "output_type": "stream",
          "name": "stdout",
          "text": [
            "epoch: 0 loss: 0.38879545238755997\n",
            "epoch: 50 loss: 0.2114601208340554\n",
            "epoch: 100 loss: 0.08694559711785489\n",
            "epoch: 150 loss: 0.046693299347091155\n",
            "epoch: 200 loss: 0.018521551306669912\n",
            "epoch: 250 loss: 0.008209354129974686\n",
            "epoch: 300 loss: 0.006290719505133374\n",
            "epoch: 350 loss: 0.003907992033817295\n",
            "epoch: 400 loss: 0.024100845495593555\n"
          ]
        }
      ]
    },
    {
      "cell_type": "code",
      "source": [
        "fig = plt.figure(figsize=(5, 5))\n",
        "plt.plot(losses)\n",
        "plt.grid(\"on\")\n",
        "plt.title(\"Loss vs. Epochs\")\n",
        "plt.xlabel(\"Epochs\")\n",
        "plt.ylabel(\"Loss [%]\")\n",
        "plt.ylim((0, 1))\n",
        "plt.show()"
      ],
      "metadata": {
        "colab": {
          "base_uri": "https://localhost:8080/",
          "height": 487
        },
        "id": "LX01tST_PYyA",
        "outputId": "d1f052a5-b177-4ff5-9ceb-9a67f27f4bad"
      },
      "execution_count": 21,
      "outputs": [
        {
          "output_type": "display_data",
          "data": {
            "text/plain": [
              "<Figure size 500x500 with 1 Axes>"
            ],
            "image/png": "[encoded data removed]"
          },
          "metadata": {}
        }
      ]
    },
    {
      "cell_type": "code",
      "source": [
        "# test error\n",
        "model.eval() # put the model in evaluation mode, turns-off drop-out, changes functionality of BatchNorm\n",
        "# use model.train() to change back to training mode\n",
        "with torch.no_grad():\n",
        "    # set requires_grad=False for all tensors (weights and biases)\n",
        "    test_outputs = model(torch.from_numpy(x_test_prep).float().to(device))\n",
        "    test_error = criterion(test_outputs.view(-1), torch.from_numpy(y_test_prep).float().to(device))\n",
        "print(f\"Train error: {loss.item() * 100}%\")\n",
        "print(f'Test error: {test_error.item()}%')"
      ],
      "metadata": {
        "colab": {
          "base_uri": "https://localhost:8080/"
        },
        "id": "Jd1q0O_WPZ8g",
        "outputId": "af2bd690-6568-408a-a038-5656ce7e5e6c"
      },
      "execution_count": 31,
      "outputs": [
        {
          "output_type": "stream",
          "name": "stdout",
          "text": [
            "Train error: 1.208949275314808%\n",
            "Test error: 1.6581956148147583%\n"
          ]
        }
      ]
    },
    {
      "cell_type": "markdown",
      "source": [
        "### Part 7"
      ],
      "metadata": {
        "id": "hO2yYwfDvIbL"
      }
    },
    {
      "cell_type": "code",
      "source": [
        "class GammaModel2(nn.Module):\n",
        "    def __init__(self, input_dim, output_dim):\n",
        "        super(GammaModel2, self).__init__()\n",
        "\n",
        "        self.hidden = nn.Sequential(nn.Linear(input_dim, 100),\n",
        "                                    nn.ReLU(),\n",
        "                                    nn.Linear(100,300),\n",
        "                                    nn.ReLU())\n",
        "        self.output_layer = nn.Linear(300, output_dim)\n",
        "        self.init_weights()\n",
        "\n",
        "    def init_weights(self):\n",
        "        for m in self.modules():\n",
        "            if isinstance(m, nn.Linear):\n",
        "                nn.init.kaiming_normal_(m.weight, mode='fan_in', nonlinearity='relu')\n",
        "                nn.init.zeros_(m.bias)\n",
        "\n",
        "    def forward(self, x):\n",
        "\n",
        "        return self.output_layer(self.hidden(x))"
      ],
      "metadata": {
        "id": "c6dIvPkKP9I8"
      },
      "execution_count": 24,
      "outputs": []
    },
    {
      "cell_type": "code",
      "source": [
        "num_features = x_train_prep.shape[1]\n",
        "output_dim = 1\n",
        "batch_size = 128\n",
        "learning_rate = 0.005\n",
        "num_epochs = 400\n",
        "\n",
        "device = torch.device(\"cuda:0\" if torch.cuda.is_available() else \"cpu\")\n",
        "\n",
        "model = GammaModel2(num_features, output_dim).to(device)\n",
        "criterion = nn.BCEWithLogitsLoss()\n",
        "optimizer = torch.optim.Adam(model.parameters(), lr=learning_rate)"
      ],
      "metadata": {
        "id": "sGOxslqGvNzG"
      },
      "execution_count": 25,
      "outputs": []
    },
    {
      "cell_type": "code",
      "source": [
        "losses = []\n",
        "for epoch in range(num_epochs):\n",
        "    model.train()\n",
        "    epoch_losses = []\n",
        "    for features, targets in gamma_tensor_train_dataloader:\n",
        "        features = features.to(device)\n",
        "        targets = targets.to(device)\n",
        "        # forward pass\n",
        "        output = model(features)\n",
        "        # loss\n",
        "        loss = criterion(output.view(-1), targets)\n",
        "        # backward pass\n",
        "        optimizer.zero_grad()\n",
        "        loss.backward()\n",
        "        optimizer.step()\n",
        "        epoch_losses.append(loss.item())\n",
        "    if epoch % 50 == 0:\n",
        "        print(f\"epoch: {epoch} loss: {np.mean(epoch_losses)}\")\n",
        "    losses.append(loss.item())\n",
        "print(f\"epoch: 400 loss: {np.mean(epoch_losses)}\")"
      ],
      "metadata": {
        "colab": {
          "base_uri": "https://localhost:8080/"
        },
        "id": "IqldOqFrvS84",
        "outputId": "6e21153c-757c-400f-e8a1-4659040b96dc"
      },
      "execution_count": 26,
      "outputs": [
        {
          "output_type": "stream",
          "name": "stdout",
          "text": [
            "epoch: 0 loss: 0.39036267364308946\n",
            "epoch: 50 loss: 0.17424091527770671\n",
            "epoch: 100 loss: 0.06456134979213987\n",
            "epoch: 150 loss: 0.10470873589317004\n",
            "epoch: 200 loss: 0.04527172255548066\n",
            "epoch: 250 loss: 0.03881191892682442\n",
            "epoch: 300 loss: 0.016424933239995013\n",
            "epoch: 350 loss: 0.007566728546295192\n",
            "epoch: 400 loss: 0.017534230922770108\n"
          ]
        }
      ]
    },
    {
      "cell_type": "code",
      "source": [
        "fig = plt.figure(figsize=(5, 5))\n",
        "plt.plot(losses)\n",
        "plt.grid(\"on\")\n",
        "plt.title(\"Loss vs. Epochs\")\n",
        "plt.xlabel(\"Epochs\")\n",
        "plt.ylabel(\"Loss [%]\")\n",
        "plt.ylim((0, 1))\n",
        "plt.show()"
      ],
      "metadata": {
        "colab": {
          "base_uri": "https://localhost:8080/",
          "height": 487
        },
        "id": "XkzIoiebvVqe",
        "outputId": "3c607d14-4aba-4dae-a7ab-3ea1cf62e18d"
      },
      "execution_count": 27,
      "outputs": [
        {
          "output_type": "display_data",
          "data": {
            "text/plain": [
              "<Figure size 500x500 with 1 Axes>"
            ],
            "image/png": "[encoded data removed]"
          },
          "metadata": {}
        }
      ]
    },
    {
      "cell_type": "code",
      "source": [
        "# test error\n",
        "model.eval() # put the model in evaluation mode, turns-off drop-out, changes functionality of BatchNorm\n",
        "# use model.train() to change back to training mode\n",
        "with torch.no_grad():\n",
        "    # set requires_grad=False for all tensors (weights and biases)\n",
        "    test_outputs = model(torch.from_numpy(x_test_prep).float().to(device))\n",
        "    test_error2 = criterion(test_outputs.view(-1), torch.from_numpy(y_test_prep).float().to(device))\n",
        "print(f\"Train error: {loss.item() * 100}%\")\n",
        "print(f'Test error: {test_error2.item()}%')"
      ],
      "metadata": {
        "colab": {
          "base_uri": "https://localhost:8080/"
        },
        "id": "9kFVNdbgvYKC",
        "outputId": "7d4c429d-236d-4d66-fe8d-57eae7a1f5aa"
      },
      "execution_count": 33,
      "outputs": [
        {
          "output_type": "stream",
          "name": "stdout",
          "text": [
            "Train error: 1.208949275314808%\n",
            "Test error: 1.6581956148147583%\n"
          ]
        }
      ]
    },
    {
      "cell_type": "code",
      "source": [
        "print(f\"Difference in test error is {test_error2.item() - test_error.item()}%\")"
      ],
      "metadata": {
        "colab": {
          "base_uri": "https://localhost:8080/"
        },
        "id": "kGVCP3RxvahN",
        "outputId": "7a880f30-2397-43b3-f46e-b09b0000a74f"
      },
      "execution_count": 34,
      "outputs": [
        {
          "output_type": "stream",
          "name": "stdout",
          "text": [
            "Difference in test error is 0.0%\n"
          ]
        }
      ]
    },
    {
      "cell_type": "markdown",
      "metadata": {
        "id": "_ZXfvF5d6JbZ"
      },
      "source": [
        "### <img src=\"https://img.icons8.com/color/48/000000/code.png\" style=\"height:50px;display:inline\"> Task 3 - Design a CNN\n",
        "---\n",
        "In this task you are going to design a deep convolutional neural network to classify house number digits from the **The Street View House Numbers (SVHN)** Dataset. \n",
        "\n",
        "SVHN is a real-world image dataset for developing machine learning and object recognition algorithms with minimal requirement on data preprocessing and formatting. It can be seen as similar in flavor to MNIST (e.g., the images are of small cropped digits), but incorporates an order of magnitude more labeled data (over 600,000 digit images) and comes from a significantly harder, unsolved, real world problem (recognizing digits and numbers in natural scene images). SVHN is obtained from house numbers in Google Street View images.\n",
        "\n",
        "* 10 classes, 1 for each digit. Digit '0' has label 0, '1' has label 1,...\n",
        "* 73257 digits for training, 26032 digits for testing, and 531131 additional, somewhat less difficult samples, to use as extra training data.\n",
        "\n",
        "<img src=\"http://ufldl.stanford.edu/housenumbers/32x32eg.png\" style=\"height:250px\">\n",
        "\n",
        "1. Load the SVHN dataset with PyTorch using `torchvision.datasets.SVHN(root, split='train', transform=None, target_transform=None, download=True)`, you can read more here: https://pytorch.org/vision/stable/generated/torchvision.datasets.SVHN.html#torchvision.datasets.SVHN. Display 5 images from the train set.\n",
        "2. Design a Convolutional Neural Network (CNN) to classify digits from the images.\n",
        "    * Describe the chosen architecture, how many layers? What activations did you choose? What are the filter sizes? Did you use fully-connected layers (if you did, explain their sizes)?\n",
        "    * What is the input dimension? What is the output dimension?\n",
        "    * Calculate the number of parameters (weights) in the network. What is the model size in Megabytes? (see the convolution tutorial). **Print** these numbers.\n",
        "3. Train the classifier (preferably on a GPU - use Colab for this part if you don't have a GPU).\n",
        "    * Describe the the hyper-parameters of the model (batch size, epochs, learning rate....). How did you tune your model? Did you use a validation set to tune the model?\n",
        "    * What is the final accuracy on the test set? **Print** it.\n",
        "        * You need to reach at least 86% accuracy in this section, and 90% for a full grade.\n",
        "    * **Plot** the loss curves (and any other statistic you calculate) as a function of epochs/iterations.\n",
        "4. For the trained classifier, what is the accuracy on the test set when each test image is added a small noise $a=(0.05, 0.01, 0.005)$: $$ \\text{image} + a \\times \\mathcal{N}(0, 1) $$. **Print** the result for each value of $a$.\n",
        "5. Retrain the classifier, but this time use data augementation of your choosing. Briefly explain what augmentation you chose and how it works. Did the test accuracy improve? **Print** the result.\n",
        "    * You can use transformations available in `torchvision.transforms` as shown in the tutorial.\n",
        "    * You are welcome to use <a href=\"https://kornia.github.io/\">`kornia`</a> for the augmentations (**2 points bonus**, maximal grade is still 100).\n",
        "    * **Plot** the loss curves (and any other statistic you want) as a function of epochs/iterations."
      ]
    },
    {
      "cell_type": "markdown",
      "source": [
        "### Part 1"
      ],
      "metadata": {
        "id": "9POfS52lSKFx"
      }
    },
    {
      "cell_type": "code",
      "execution_count": 3,
      "metadata": {
        "colab": {
          "base_uri": "https://localhost:8080/"
        },
        "id": "P1jN5GdH6Jbb",
        "outputId": "a5509bd9-c058-4f2b-c835-955698d081a9"
      },
      "outputs": [
        {
          "output_type": "stream",
          "name": "stdout",
          "text": [
            "Downloading http://ufldl.stanford.edu/housenumbers/train_32x32.mat to ./data/train_32x32.mat\n"
          ]
        },
        {
          "output_type": "stream",
          "name": "stderr",
          "text": [
            "100%|██████████| 182040794/182040794 [00:14<00:00, 12173611.15it/s]\n"
          ]
        },
        {
          "output_type": "stream",
          "name": "stdout",
          "text": [
            "Using downloaded and verified file: ./data/train_32x32.mat\n",
            "Downloading http://ufldl.stanford.edu/housenumbers/test_32x32.mat to ./data/test_32x32.mat\n"
          ]
        },
        {
          "output_type": "stream",
          "name": "stderr",
          "text": [
            "100%|██████████| 64275384/64275384 [00:07<00:00, 8441510.44it/s] \n"
          ]
        }
      ],
      "source": [
        "SVHN_show = torchvision.datasets.SVHN(root=\"./data\", split='train', transform=None, target_transform=None, download=True)\n",
        "SVHN_train = torchvision.datasets.SVHN(root=\"./data\", split='train', transform=transforms.ToTensor(), target_transform=None, download=True)\n",
        "SVHN_test = torchvision.datasets.SVHN(root=\"./data\", split='test', transform=transforms.ToTensor(), target_transform=None, download=True)"
      ]
    },
    {
      "cell_type": "code",
      "source": [
        "fig = plt.figure(figsize=(20, 5))\n",
        "for idx in range(5):\n",
        "    ax = fig.add_subplot(1, 5, idx+1)\n",
        "    plt.imshow(SVHN_show[idx][0])\n",
        "    plt.title(SVHN_show[idx][1])\n",
        "    plt.axis(\"off\")"
      ],
      "metadata": {
        "colab": {
          "base_uri": "https://localhost:8080/",
          "height": 326
        },
        "id": "Z-lfdW60SOnS",
        "outputId": "99ea591f-ae3d-4a59-f598-486c6fa09140"
      },
      "execution_count": 4,
      "outputs": [
        {
          "output_type": "display_data",
          "data": {
            "text/plain": [
              "<Figure size 2000x500 with 5 Axes>"
            ],
            "image/png": "[encoded data removed]"
          },
          "metadata": {}
        }
      ]
    },
    {
      "cell_type": "markdown",
      "source": [
        "### Part 2\n",
        "\n",
        "We chose to use an architecture similar to the one in the recitation consisting of a convolution layer and a fully-connected layer, but with an exponential increase in the channels as we got deeper.\n",
        "\n",
        "We used convolutions on the images with a kernel size of 3 in every one, and with padding such that the dimensions of the image do not change inside the blocks. But, we halved the dimensions using the max pooling at the end of every block. As stated above, we doubled the output channels every time we used the convolution.\n",
        "After the convolution layer, we flattened the output and then used a fully connected layer, gradually dividing the number of nodes by 8 until we reached our desired output of 10 nodes (one for each digit).\n",
        "\n",
        "As these are 32x32x3 sized images, the input dimension is 32x32x3. As we are classifying digits, the output dimension is a scalar 10.\n",
        "\n",
        "The architecture, size, and number of weights are printed below."
      ],
      "metadata": {
        "id": "pAyGCqM-SUKQ"
      }
    },
    {
      "cell_type": "code",
      "source": [
        "class DigitsModel(nn.Module):\n",
        "    def __init__(self):\n",
        "        super(DigitsModel, self).__init__()\n",
        "\n",
        "        self.conv_layer = nn.Sequential(\n",
        "\n",
        "              # Conv Layer block 1\n",
        "             nn.Conv2d(in_channels=3, out_channels=32, kernel_size=3, padding=1),\n",
        "             nn.BatchNorm2d(32),\n",
        "             nn.ReLU(inplace=True),\n",
        "             nn.Conv2d(in_channels=32, out_channels=64, kernel_size=3, padding=1),\n",
        "             nn.ReLU(inplace=True),\n",
        "             nn.MaxPool2d(kernel_size=2, stride=2),\n",
        "\n",
        "             # Conv Layer block 2\n",
        "             nn.Conv2d(in_channels=64, out_channels=128, kernel_size=3, padding=1),\n",
        "             nn.BatchNorm2d(128),\n",
        "             nn.ReLU(inplace=True),\n",
        "             nn.Conv2d(in_channels=128, out_channels=256, kernel_size=3, padding=1),\n",
        "             nn.ReLU(inplace=True),\n",
        "             nn.MaxPool2d(kernel_size=2, stride=2),\n",
        "             nn.Dropout2d(p=0.05),\n",
        "\n",
        "             # Conv Layer block 3\n",
        "             nn.Conv2d(in_channels=256, out_channels=512, kernel_size=3, padding=1),\n",
        "             nn.BatchNorm2d(512),\n",
        "             nn.ReLU(inplace=True),\n",
        "             nn.Conv2d(in_channels=512, out_channels=1024, kernel_size=3, padding=1),\n",
        "             nn.ReLU(inplace=True),\n",
        "             nn.MaxPool2d(kernel_size=2, stride=2),\n",
        "\n",
        "        )\n",
        "        self.fc_layer = nn.Sequential(\n",
        "             nn.Dropout(p=0.1),\n",
        "             nn.Linear(16384, 2048),\n",
        "             nn.ReLU(inplace=True),\n",
        "             nn.Linear(2048, 256),\n",
        "             nn.ReLU(inplace=True),\n",
        "             nn.Dropout(p=0.1),\n",
        "             nn.Linear(256, 10)\n",
        "\n",
        "        )\n",
        "\n",
        "    def forward(self, x):\n",
        "\n",
        "        x = self.conv_layer(x)\n",
        "\n",
        "        x = x.view(x.size(0), -1)\n",
        "\n",
        "        x = self.fc_layer(x)\n",
        "\n",
        "        return x"
      ],
      "metadata": {
        "id": "IrqNP-MCSQ64"
      },
      "execution_count": 5,
      "outputs": []
    },
    {
      "cell_type": "code",
      "source": [
        "# how can we calcualte the output of the convolution automatically?\n",
        "dummy_input = torch.zeros([1, 3, 32, 32])\n",
        "dummy_model = DigitsModel()\n",
        "print(dummy_model)"
      ],
      "metadata": {
        "colab": {
          "base_uri": "https://localhost:8080/"
        },
        "id": "Tx-mwJySSZry",
        "outputId": "21169893-a3f5-432d-e3b5-d431869d09d3"
      },
      "execution_count": 6,
      "outputs": [
        {
          "output_type": "stream",
          "name": "stdout",
          "text": [
            "DigitsModel(\n",
            "  (conv_layer): Sequential(\n",
            "    (0): Conv2d(3, 32, kernel_size=(3, 3), stride=(1, 1), padding=(1, 1))\n",
            "    (1): BatchNorm2d(32, eps=1e-05, momentum=0.1, affine=True, track_running_stats=True)\n",
            "    (2): ReLU(inplace=True)\n",
            "    (3): Conv2d(32, 64, kernel_size=(3, 3), stride=(1, 1), padding=(1, 1))\n",
            "    (4): ReLU(inplace=True)\n",
            "    (5): MaxPool2d(kernel_size=2, stride=2, padding=0, dilation=1, ceil_mode=False)\n",
            "    (6): Conv2d(64, 128, kernel_size=(3, 3), stride=(1, 1), padding=(1, 1))\n",
            "    (7): BatchNorm2d(128, eps=1e-05, momentum=0.1, affine=True, track_running_stats=True)\n",
            "    (8): ReLU(inplace=True)\n",
            "    (9): Conv2d(128, 256, kernel_size=(3, 3), stride=(1, 1), padding=(1, 1))\n",
            "    (10): ReLU(inplace=True)\n",
            "    (11): MaxPool2d(kernel_size=2, stride=2, padding=0, dilation=1, ceil_mode=False)\n",
            "    (12): Dropout2d(p=0.05, inplace=False)\n",
            "    (13): Conv2d(256, 512, kernel_size=(3, 3), stride=(1, 1), padding=(1, 1))\n",
            "    (14): BatchNorm2d(512, eps=1e-05, momentum=0.1, affine=True, track_running_stats=True)\n",
            "    (15): ReLU(inplace=True)\n",
            "    (16): Conv2d(512, 1024, kernel_size=(3, 3), stride=(1, 1), padding=(1, 1))\n",
            "    (17): ReLU(inplace=True)\n",
            "    (18): MaxPool2d(kernel_size=2, stride=2, padding=0, dilation=1, ceil_mode=False)\n",
            "  )\n",
            "  (fc_layer): Sequential(\n",
            "    (0): Dropout(p=0.1, inplace=False)\n",
            "    (1): Linear(in_features=16384, out_features=2048, bias=True)\n",
            "    (2): ReLU(inplace=True)\n",
            "    (3): Linear(in_features=2048, out_features=256, bias=True)\n",
            "    (4): ReLU(inplace=True)\n",
            "    (5): Dropout(p=0.1, inplace=False)\n",
            "    (6): Linear(in_features=256, out_features=10, bias=True)\n",
            "  )\n",
            ")\n"
          ]
        }
      ]
    },
    {
      "cell_type": "code",
      "source": [
        "dummy_output = dummy_model.conv_layer(dummy_input)\n",
        "print(dummy_output.shape)\n",
        "dummy_output = dummy_output.view(dummy_output.size(0), -1)\n",
        "print(dummy_output.shape)\n",
        "# how many weights (trainable parameters) we have in our model?\n",
        "num_trainable_params = sum([p.numel() for p in dummy_model.parameters() if p.requires_grad])\n",
        "print(\"num trainable weights: \", num_trainable_params)\n",
        "\n",
        " # calculate the model size on disk\n",
        "size_model = 0\n",
        "for param in dummy_model.parameters():\n",
        "     if param.data.is_floating_point():\n",
        "        size_model += param.numel() * torch.finfo(param.data.dtype).bits\n",
        "     else:\n",
        "        size_model += param.numel() * torch.iinfo(param.data.dtype).bits\n",
        "print(f\"model size: {size_model} / bit | {size_model / 8e6:.2f} / MB\")"
      ],
      "metadata": {
        "colab": {
          "base_uri": "https://localhost:8080/"
        },
        "id": "tw2KfEotSb5y",
        "outputId": "07f75fc9-166e-4d83-8121-835cd3c60e85"
      },
      "execution_count": 7,
      "outputs": [
        {
          "output_type": "stream",
          "name": "stdout",
          "text": [
            "torch.Size([1, 1024, 4, 4])\n",
            "torch.Size([1, 16384])\n",
            "num trainable weights:  40373130\n",
            "model size: 1291940160 / bit | 161.49 / MB\n"
          ]
        }
      ]
    },
    {
      "cell_type": "markdown",
      "source": [
        "We see the architecture above, and as for the number of weights and size of the model we get:\n",
        "\n",
        "Number of weights: 40373130\n",
        "Size: 161.49MB"
      ],
      "metadata": {
        "id": "NC5JQE8dSjMJ"
      }
    },
    {
      "cell_type": "markdown",
      "source": [
        "## Part 3\n",
        "\n",
        "We decided upon the hyperparameters by running the model a few times until reaching around 95% test accuracy which satisfied us.\n",
        "\n",
        "The hyperparameters are as follows:\n",
        "\n",
        "- Batch size of 128\n",
        "- Learning rate of 0.0001\n",
        "- Epoch number of 10\n",
        "- Loss criterion of Cross Entropy\n",
        "- Optimizer Adam with no parameters"
      ],
      "metadata": {
        "id": "MaJz5xlOSpFh"
      }
    },
    {
      "cell_type": "code",
      "source": [
        "# function to calcualte accuracy of the model\n",
        "def calculate_accuracy(model, dataloader, device):\n",
        "    model.eval() # put in evaluation mode\n",
        "    total_correct = 0\n",
        "    total_images = 0\n",
        "    confusion_matrix = np.zeros([10,10], int)\n",
        "    with torch.no_grad():\n",
        "        for data in dataloader:\n",
        "            images, labels = data\n",
        "            images = images.to(device)\n",
        "            labels = labels.to(device)\n",
        "            outputs = model(images)\n",
        "            _, predicted = torch.max(outputs.data, 1)\n",
        "            total_images += labels.size(0)\n",
        "            total_correct += (predicted == labels).sum().item()\n",
        "            for i, l in enumerate(labels):\n",
        "                confusion_matrix[l.item(), predicted[i].item()] += 1\n",
        "\n",
        "    model_accuracy = total_correct / total_images * 100\n",
        "    return model_accuracy, confusion_matrix"
      ],
      "metadata": {
        "id": "yg3Gfwc4SelK"
      },
      "execution_count": 8,
      "outputs": []
    },
    {
      "cell_type": "code",
      "source": [
        "batch_size = 128\n",
        "learning_rate = 0.0001\n",
        "num_epochs = 10\n",
        "\n",
        "device = torch.device(\"cuda:0\" if torch.cuda.is_available() else \"cpu\")\n",
        "\n",
        "model = DigitsModel().to(device)\n",
        "criterion = nn.CrossEntropyLoss()\n",
        "optimizer = torch.optim.Adam(model.parameters(), lr=learning_rate)"
      ],
      "metadata": {
        "id": "UywptWK6St7p"
      },
      "execution_count": 9,
      "outputs": []
    },
    {
      "cell_type": "code",
      "source": [
        "SVHN_tensor_train_dataloader = DataLoader(SVHN_train, batch_size=batch_size, shuffle=True, num_workers=2)\n",
        "SVHN_tensor_test_dataloader = DataLoader(SVHN_test, batch_size=batch_size, shuffle=False, num_workers=2)\n",
        "\n",
        "losses = []\n",
        "for epoch in range(1, num_epochs+1):\n",
        "    model.train()\n",
        "    running_loss = 0.0\n",
        "    epoch_time = time.time()\n",
        "    for idx, data in enumerate(SVHN_tensor_train_dataloader):\n",
        "        inputs, labels = data\n",
        "        inputs = inputs.to(device)\n",
        "        labels = labels.to(device)\n",
        "\n",
        "        outputs = model(inputs)\n",
        "        loss = criterion(outputs, labels)\n",
        "\n",
        "        optimizer.zero_grad()\n",
        "        loss.backward()\n",
        "        optimizer.step()\n",
        "\n",
        "        running_loss += loss.data.item()\n",
        "\n",
        "    running_loss /= len(SVHN_tensor_train_dataloader)\n",
        "\n",
        "    train_accuracy, _ = calculate_accuracy(model, SVHN_tensor_train_dataloader, device)\n",
        "    test_accuracy, _ = calculate_accuracy(model, SVHN_tensor_test_dataloader, device)\n",
        "\n",
        "    losses.append(running_loss)\n",
        "\n",
        "    log = \"Epoch: {} | Loss: {:.4f} | Training accuracy: {:.3f}% | Test accuracy: {:.3f}% | \".format(epoch, running_loss, train_accuracy, test_accuracy)\n",
        "    epoch_time = time.time() - epoch_time\n",
        "    log += \"Epoch Time: {:.2f} secs\".format(epoch_time)\n",
        "    print(log)\n",
        "\n",
        "print(\"==> Finished Training\")"
      ],
      "metadata": {
        "colab": {
          "base_uri": "https://localhost:8080/"
        },
        "id": "6dQNpj4hSxMB",
        "outputId": "2a849802-0951-4f55-e20c-0bb7bbc98dd2"
      },
      "execution_count": 10,
      "outputs": [
        {
          "output_type": "stream",
          "name": "stdout",
          "text": [
            "Epoch: 1 | Loss: 0.6960 | Training accuracy: 90.961% | Test accuracy: 89.098% | Epoch Time: 67.99 secs\n",
            "Epoch: 2 | Loss: 0.2681 | Training accuracy: 94.547% | Test accuracy: 92.363% | Epoch Time: 61.37 secs\n",
            "Epoch: 3 | Loss: 0.1965 | Training accuracy: 96.035% | Test accuracy: 93.220% | Epoch Time: 61.32 secs\n",
            "Epoch: 4 | Loss: 0.1505 | Training accuracy: 96.893% | Test accuracy: 93.377% | Epoch Time: 61.18 secs\n",
            "Epoch: 5 | Loss: 0.1174 | Training accuracy: 98.073% | Test accuracy: 93.677% | Epoch Time: 61.41 secs\n",
            "Epoch: 6 | Loss: 0.0834 | Training accuracy: 98.687% | Test accuracy: 94.019% | Epoch Time: 63.62 secs\n",
            "Epoch: 7 | Loss: 0.0630 | Training accuracy: 98.718% | Test accuracy: 93.527% | Epoch Time: 62.53 secs\n",
            "Epoch: 8 | Loss: 0.0442 | Training accuracy: 99.150% | Test accuracy: 93.884% | Epoch Time: 61.17 secs\n",
            "Epoch: 9 | Loss: 0.0377 | Training accuracy: 99.378% | Test accuracy: 93.715% | Epoch Time: 60.45 secs\n",
            "Epoch: 10 | Loss: 0.0295 | Training accuracy: 99.439% | Test accuracy: 93.281% | Epoch Time: 61.03 secs\n",
            "==> Finished Training\n"
          ]
        }
      ]
    },
    {
      "cell_type": "code",
      "source": [
        "fig = plt.figure(figsize=(5, 5))\n",
        "\n",
        "plt.plot(range(1,num_epochs+1), losses)\n",
        "plt.title(\"Loss vs Epochs\")\n",
        "plt.xlabel(\"Epochs\")\n",
        "plt.ylabel(\"Loss\")"
      ],
      "metadata": {
        "colab": {
          "base_uri": "https://localhost:8080/",
          "height": 504
        },
        "id": "kopuSw5GS2Rz",
        "outputId": "4f529f40-6f5f-4531-b330-b1ee2168cf8c"
      },
      "execution_count": 11,
      "outputs": [
        {
          "output_type": "execute_result",
          "data": {
            "text/plain": [
              "Text(0, 0.5, 'Loss')"
            ]
          },
          "metadata": {},
          "execution_count": 11
        },
        {
          "output_type": "display_data",
          "data": {
            "text/plain": [
              "<Figure size 500x500 with 1 Axes>"
            ],
            "image/png": "[encoded data removed]"
          },
          "metadata": {}
        }
      ]
    },
    {
      "cell_type": "markdown",
      "source": [
        "## Part 4"
      ],
      "metadata": {
        "id": "7R-norO_S7kp"
      }
    },
    {
      "cell_type": "code",
      "source": [
        "class AddNoise(object):\n",
        "    def __init__(self, mean=0., std=1.):\n",
        "        self.std = std\n",
        "        self.mean = mean\n",
        "\n",
        "    def __call__(self, tensor):\n",
        "        return tensor + torch.randn(tensor.size()) * self.std + self.mean"
      ],
      "metadata": {
        "id": "qW6liLHeS47J"
      },
      "execution_count": 12,
      "outputs": []
    },
    {
      "cell_type": "code",
      "source": [
        "a_arr = np.array((0.05, 0.01, 0.005))\n",
        "for a in a_arr:\n",
        "    transform = transforms.Compose([\n",
        "        transforms.ToTensor(),\n",
        "        AddNoise(0., a) # std is same as multiplying by constant in this case\n",
        "    ])\n",
        "\n",
        "    test_data = torchvision.datasets.SVHN(root=\"./data\", split='test', transform=transform, target_transform=None, download=True)\n",
        "    test_dataloader = DataLoader(test_data, batch_size=128, shuffle=False)\n",
        "\n",
        "    test_accuracy, _ = calculate_accuracy(model, test_dataloader, device)\n",
        "\n",
        "    print(f\"Test accuracy given a = {a} is: {test_accuracy}\")"
      ],
      "metadata": {
        "colab": {
          "base_uri": "https://localhost:8080/"
        },
        "id": "2xX1o8W1S-_R",
        "outputId": "1573593e-2bb1-4bc8-b987-635e3a207651"
      },
      "execution_count": 13,
      "outputs": [
        {
          "output_type": "stream",
          "name": "stdout",
          "text": [
            "Using downloaded and verified file: ./data/test_32x32.mat\n",
            "Test accuracy given a = 0.05 is: 88.58328211432084\n",
            "Using downloaded and verified file: ./data/test_32x32.mat\n",
            "Test accuracy given a = 0.01 is: 93.28902888752305\n",
            "Using downloaded and verified file: ./data/test_32x32.mat\n",
            "Test accuracy given a = 0.005 is: 93.2582974800246\n"
          ]
        }
      ]
    },
    {
      "cell_type": "markdown",
      "source": [
        "## Part 5\n",
        "\n",
        "We chose to augment the trainset using affine transformations, as these are generally the types of transformations we expect to see in the real world.\n",
        "Specifically, we rotated our images by up to 10 degrees.\n",
        "Also, as we want our model to be color invariant, we also added a random inversion of colors."
      ],
      "metadata": {
        "id": "sNxyuQTyTEFZ"
      }
    },
    {
      "cell_type": "code",
      "source": [
        "transform_train = transforms.Compose([\n",
        "    transforms.RandomAffine(degrees=[-10, 10]),\n",
        "    transforms.RandomInvert(),\n",
        "    transforms.ToTensor()\n",
        "])\n",
        "train_data = torchvision.datasets.SVHN(root=\"./data\", split='train', transform=transforms.ToTensor(), target_transform=None, download=True)\n",
        "test_data = torchvision.datasets.SVHN(root=\"./data\", split='test', transform=transforms.ToTensor(), target_transform=None, download=True)"
      ],
      "metadata": {
        "colab": {
          "base_uri": "https://localhost:8080/"
        },
        "id": "f5eLs6AiTByZ",
        "outputId": "acdc2379-86c2-49ec-fec6-ba7dfb2c6a5e"
      },
      "execution_count": 14,
      "outputs": [
        {
          "output_type": "stream",
          "name": "stdout",
          "text": [
            "Using downloaded and verified file: ./data/train_32x32.mat\n",
            "Using downloaded and verified file: ./data/test_32x32.mat\n"
          ]
        }
      ]
    },
    {
      "cell_type": "code",
      "source": [
        "batch_size = 128\n",
        "learning_rate = 0.0001\n",
        "num_epochs = 10\n",
        "\n",
        "device = torch.device(\"cuda:0\" if torch.cuda.is_available() else \"cpu\")\n",
        "\n",
        "model = DigitsModel().to(device)\n",
        "criterion = nn.CrossEntropyLoss()\n",
        "optimizer = torch.optim.Adam(model.parameters(), lr=learning_rate)"
      ],
      "metadata": {
        "id": "E_-nH8dnTIUH"
      },
      "execution_count": 15,
      "outputs": []
    },
    {
      "cell_type": "code",
      "source": [
        "train_loader = DataLoader(train_data, batch_size=batch_size, shuffle=True, num_workers=2)\n",
        "SVHN_tensor_test_dataloader = DataLoader(test_data, batch_size=batch_size, shuffle=False, num_workers=2)\n",
        "\n",
        "losses = []\n",
        "for epoch in range(1, num_epochs+1):\n",
        "    model.train()\n",
        "    running_loss = 0.0\n",
        "    epoch_time = time.time()\n",
        "    for idx, data in enumerate(train_loader):\n",
        "        inputs, labels = data\n",
        "        inputs = inputs.to(device)\n",
        "        labels = labels.to(device)\n",
        "\n",
        "        outputs = model(inputs)\n",
        "        loss = criterion(outputs, labels)\n",
        "\n",
        "        optimizer.zero_grad()\n",
        "        loss.backward()\n",
        "        optimizer.step()\n",
        "\n",
        "        running_loss += loss.data.item()\n",
        "\n",
        "    running_loss /= len(train_loader)\n",
        "\n",
        "    train_accuracy, _ = calculate_accuracy(model, train_loader, device)\n",
        "    test_accuracy, _ = calculate_accuracy(model, SVHN_tensor_test_dataloader, device)\n",
        "\n",
        "    losses.append(running_loss)\n",
        "\n",
        "    log = \"Epoch: {} | Loss: {:.4f} | Training accuracy: {:.3f}% | Test accuracy: {:.3f}% | \".format(epoch, running_loss, train_accuracy, test_accuracy)\n",
        "    epoch_time = time.time() - epoch_time\n",
        "    log += \"Epoch Time: {:.2f} secs\".format(epoch_time)\n",
        "    print(log)\n",
        "\n",
        "print(\"==> Finished Training\")"
      ],
      "metadata": {
        "colab": {
          "base_uri": "https://localhost:8080/"
        },
        "id": "4XOJZEpETMeI",
        "outputId": "e0867615-44d0-463b-825d-3e91ed3350ca"
      },
      "execution_count": 16,
      "outputs": [
        {
          "output_type": "stream",
          "name": "stdout",
          "text": [
            "Epoch: 1 | Loss: 0.7018 | Training accuracy: 91.808% | Test accuracy: 90.289% | Epoch Time: 60.76 secs\n",
            "Epoch: 2 | Loss: 0.2602 | Training accuracy: 94.689% | Test accuracy: 92.578% | Epoch Time: 60.69 secs\n",
            "Epoch: 3 | Loss: 0.1920 | Training accuracy: 96.351% | Test accuracy: 93.846% | Epoch Time: 60.79 secs\n",
            "Epoch: 4 | Loss: 0.1468 | Training accuracy: 97.187% | Test accuracy: 93.489% | Epoch Time: 60.87 secs\n",
            "Epoch: 5 | Loss: 0.1126 | Training accuracy: 98.358% | Test accuracy: 94.407% | Epoch Time: 60.67 secs\n",
            "Epoch: 6 | Loss: 0.0824 | Training accuracy: 98.868% | Test accuracy: 94.119% | Epoch Time: 60.40 secs\n",
            "Epoch: 7 | Loss: 0.0629 | Training accuracy: 99.049% | Test accuracy: 94.199% | Epoch Time: 60.73 secs\n",
            "Epoch: 8 | Loss: 0.0452 | Training accuracy: 99.363% | Test accuracy: 93.861% | Epoch Time: 61.41 secs\n",
            "Epoch: 9 | Loss: 0.0373 | Training accuracy: 99.225% | Test accuracy: 93.727% | Epoch Time: 61.55 secs\n",
            "Epoch: 10 | Loss: 0.0280 | Training accuracy: 99.652% | Test accuracy: 94.088% | Epoch Time: 61.40 secs\n",
            "==> Finished Training\n"
          ]
        }
      ]
    },
    {
      "cell_type": "code",
      "source": [
        "fig = plt.figure(figsize=(5, 5))\n",
        "\n",
        "plt.plot(range(1,num_epochs+1), losses)\n",
        "plt.title(\"Loss vs Epochs\")\n",
        "plt.xlabel(\"Epochs\")\n",
        "plt.ylabel(\"Loss\")"
      ],
      "metadata": {
        "colab": {
          "base_uri": "https://localhost:8080/",
          "height": 504
        },
        "id": "_n0SfcyvTQWw",
        "outputId": "ab9bdc9a-21d9-4fca-d6bf-44e75c030e37"
      },
      "execution_count": 17,
      "outputs": [
        {
          "output_type": "execute_result",
          "data": {
            "text/plain": [
              "Text(0, 0.5, 'Loss')"
            ]
          },
          "metadata": {},
          "execution_count": 17
        },
        {
          "output_type": "display_data",
          "data": {
            "text/plain": [
              "<Figure size 500x500 with 1 Axes>"
            ],
            "image/png": "[encoded data removed]"
          },
          "metadata": {}
        }
      ]
    },
    {
      "cell_type": "markdown",
      "source": [
        "As we see, there is a slight improvement in the test accuracy"
      ],
      "metadata": {
        "id": "NuHvVPg7TXy5"
      }
    },
    {
      "cell_type": "markdown",
      "metadata": {
        "id": "_s7xoQ8D6Jbc"
      },
      "source": [
        "## <img src=\"https://img.icons8.com/dusk/64/000000/prize.png\" style=\"height:50px;display:inline\"> Credits\n",
        "---\n",
        "* Icons made by <a href=\"https://www.flaticon.com/authors/becris\" title=\"Becris\">Becris</a> from <a href=\"https://www.flaticon.com/\" title=\"Flaticon\">www.flaticon.com</a>\n",
        "* Icons from <a href=\"https://icons8.com/\">Icons8.com</a> - https://icons8.com\n",
        "* Datasets from <a href=\"https://www.kaggle.com/\">Kaggle</a> - https://www.kaggle.com/"
      ]
    }
  ],
  "metadata": {
    "kernelspec": {
      "display_name": "Python 3",
      "language": "python",
      "name": "python3"
    },
    "language_info": {
      "codemirror_mode": {
        "name": "ipython",
        "version": 3
      },
      "file_extension": ".py",
      "mimetype": "text/x-python",
      "name": "python",
      "nbconvert_exporter": "python",
      "pygments_lexer": "ipython3",
      "version": "3.6.9"
    },
    "colab": {
      "provenance": [],
      "gpuType": "T4"
    },
    "accelerator": "GPU",
    "gpuClass": "standard"
  },
  "nbformat": 4,
  "nbformat_minor": 0
}